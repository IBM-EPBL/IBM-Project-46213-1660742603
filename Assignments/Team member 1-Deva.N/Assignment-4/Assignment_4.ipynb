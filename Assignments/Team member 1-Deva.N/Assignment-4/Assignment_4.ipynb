{
  "nbformat": 4,
  "nbformat_minor": 0,
  "metadata": {
    "colab": {
      "provenance": []
    },
    "kernelspec": {
      "name": "python3",
      "display_name": "Python 3"
    },
    "language_info": {
      "name": "python"
    }
  },
  "cells": [
    {
      "cell_type": "code",
      "execution_count": 1,
      "metadata": {
        "id": "Et5NbtZLKkqE"
      },
      "outputs": [],
      "source": [
        "import pandas as pd\n",
        "import numpy as np\n",
        "import matplotlib.pyplot as plt\n",
        "import seaborn as sns"
      ]
    },
    {
      "cell_type": "code",
      "source": [
        "import warnings\n",
        "warnings.filterwarnings(\"ignore\")"
      ],
      "metadata": {
        "id": "sydDRAjRMJKF"
      },
      "execution_count": 2,
      "outputs": []
    },
    {
      "cell_type": "code",
      "source": [
        "data=pd.read_csv(\"/content/Mall_Customers.csv\")\n",
        "data.head()"
      ],
      "metadata": {
        "colab": {
          "base_uri": "https://localhost:8080/",
          "height": 206
        },
        "id": "wenxppnzMMOb",
        "outputId": "b521016c-d32e-4488-ef19-face04965605"
      },
      "execution_count": 3,
      "outputs": [
        {
          "output_type": "execute_result",
          "data": {
            "text/plain": [
              "   CustomerID  Gender  Age  Annual Income (k$)  Spending Score (1-100)\n",
              "0           1    Male   19                  15                      39\n",
              "1           2    Male   21                  15                      81\n",
              "2           3  Female   20                  16                       6\n",
              "3           4  Female   23                  16                      77\n",
              "4           5  Female   31                  17                      40"
            ],
            "text/html": [
              "\n",
              "  <div id=\"df-8a3d94cc-8566-4a59-a68a-f927efd73334\">\n",
              "    <div class=\"colab-df-container\">\n",
              "      <div>\n",
              "<style scoped>\n",
              "    .dataframe tbody tr th:only-of-type {\n",
              "        vertical-align: middle;\n",
              "    }\n",
              "\n",
              "    .dataframe tbody tr th {\n",
              "        vertical-align: top;\n",
              "    }\n",
              "\n",
              "    .dataframe thead th {\n",
              "        text-align: right;\n",
              "    }\n",
              "</style>\n",
              "<table border=\"1\" class=\"dataframe\">\n",
              "  <thead>\n",
              "    <tr style=\"text-align: right;\">\n",
              "      <th></th>\n",
              "      <th>CustomerID</th>\n",
              "      <th>Gender</th>\n",
              "      <th>Age</th>\n",
              "      <th>Annual Income (k$)</th>\n",
              "      <th>Spending Score (1-100)</th>\n",
              "    </tr>\n",
              "  </thead>\n",
              "  <tbody>\n",
              "    <tr>\n",
              "      <th>0</th>\n",
              "      <td>1</td>\n",
              "      <td>Male</td>\n",
              "      <td>19</td>\n",
              "      <td>15</td>\n",
              "      <td>39</td>\n",
              "    </tr>\n",
              "    <tr>\n",
              "      <th>1</th>\n",
              "      <td>2</td>\n",
              "      <td>Male</td>\n",
              "      <td>21</td>\n",
              "      <td>15</td>\n",
              "      <td>81</td>\n",
              "    </tr>\n",
              "    <tr>\n",
              "      <th>2</th>\n",
              "      <td>3</td>\n",
              "      <td>Female</td>\n",
              "      <td>20</td>\n",
              "      <td>16</td>\n",
              "      <td>6</td>\n",
              "    </tr>\n",
              "    <tr>\n",
              "      <th>3</th>\n",
              "      <td>4</td>\n",
              "      <td>Female</td>\n",
              "      <td>23</td>\n",
              "      <td>16</td>\n",
              "      <td>77</td>\n",
              "    </tr>\n",
              "    <tr>\n",
              "      <th>4</th>\n",
              "      <td>5</td>\n",
              "      <td>Female</td>\n",
              "      <td>31</td>\n",
              "      <td>17</td>\n",
              "      <td>40</td>\n",
              "    </tr>\n",
              "  </tbody>\n",
              "</table>\n",
              "</div>\n",
              "      <button class=\"colab-df-convert\" onclick=\"convertToInteractive('df-8a3d94cc-8566-4a59-a68a-f927efd73334')\"\n",
              "              title=\"Convert this dataframe to an interactive table.\"\n",
              "              style=\"display:none;\">\n",
              "        \n",
              "  <svg xmlns=\"http://www.w3.org/2000/svg\" height=\"24px\"viewBox=\"0 0 24 24\"\n",
              "       width=\"24px\">\n",
              "    <path d=\"M0 0h24v24H0V0z\" fill=\"none\"/>\n",
              "    <path d=\"M18.56 5.44l.94 2.06.94-2.06 2.06-.94-2.06-.94-.94-2.06-.94 2.06-2.06.94zm-11 1L8.5 8.5l.94-2.06 2.06-.94-2.06-.94L8.5 2.5l-.94 2.06-2.06.94zm10 10l.94 2.06.94-2.06 2.06-.94-2.06-.94-.94-2.06-.94 2.06-2.06.94z\"/><path d=\"M17.41 7.96l-1.37-1.37c-.4-.4-.92-.59-1.43-.59-.52 0-1.04.2-1.43.59L10.3 9.45l-7.72 7.72c-.78.78-.78 2.05 0 2.83L4 21.41c.39.39.9.59 1.41.59.51 0 1.02-.2 1.41-.59l7.78-7.78 2.81-2.81c.8-.78.8-2.07 0-2.86zM5.41 20L4 18.59l7.72-7.72 1.47 1.35L5.41 20z\"/>\n",
              "  </svg>\n",
              "      </button>\n",
              "      \n",
              "  <style>\n",
              "    .colab-df-container {\n",
              "      display:flex;\n",
              "      flex-wrap:wrap;\n",
              "      gap: 12px;\n",
              "    }\n",
              "\n",
              "    .colab-df-convert {\n",
              "      background-color: #E8F0FE;\n",
              "      border: none;\n",
              "      border-radius: 50%;\n",
              "      cursor: pointer;\n",
              "      display: none;\n",
              "      fill: #1967D2;\n",
              "      height: 32px;\n",
              "      padding: 0 0 0 0;\n",
              "      width: 32px;\n",
              "    }\n",
              "\n",
              "    .colab-df-convert:hover {\n",
              "      background-color: #E2EBFA;\n",
              "      box-shadow: 0px 1px 2px rgba(60, 64, 67, 0.3), 0px 1px 3px 1px rgba(60, 64, 67, 0.15);\n",
              "      fill: #174EA6;\n",
              "    }\n",
              "\n",
              "    [theme=dark] .colab-df-convert {\n",
              "      background-color: #3B4455;\n",
              "      fill: #D2E3FC;\n",
              "    }\n",
              "\n",
              "    [theme=dark] .colab-df-convert:hover {\n",
              "      background-color: #434B5C;\n",
              "      box-shadow: 0px 1px 3px 1px rgba(0, 0, 0, 0.15);\n",
              "      filter: drop-shadow(0px 1px 2px rgba(0, 0, 0, 0.3));\n",
              "      fill: #FFFFFF;\n",
              "    }\n",
              "  </style>\n",
              "\n",
              "      <script>\n",
              "        const buttonEl =\n",
              "          document.querySelector('#df-8a3d94cc-8566-4a59-a68a-f927efd73334 button.colab-df-convert');\n",
              "        buttonEl.style.display =\n",
              "          google.colab.kernel.accessAllowed ? 'block' : 'none';\n",
              "\n",
              "        async function convertToInteractive(key) {\n",
              "          const element = document.querySelector('#df-8a3d94cc-8566-4a59-a68a-f927efd73334');\n",
              "          const dataTable =\n",
              "            await google.colab.kernel.invokeFunction('convertToInteractive',\n",
              "                                                     [key], {});\n",
              "          if (!dataTable) return;\n",
              "\n",
              "          const docLinkHtml = 'Like what you see? Visit the ' +\n",
              "            '<a target=\"_blank\" href=https://colab.research.google.com/notebooks/data_table.ipynb>data table notebook</a>'\n",
              "            + ' to learn more about interactive tables.';\n",
              "          element.innerHTML = '';\n",
              "          dataTable['output_type'] = 'display_data';\n",
              "          await google.colab.output.renderOutput(dataTable, element);\n",
              "          const docLink = document.createElement('div');\n",
              "          docLink.innerHTML = docLinkHtml;\n",
              "          element.appendChild(docLink);\n",
              "        }\n",
              "      </script>\n",
              "    </div>\n",
              "  </div>\n",
              "  "
            ]
          },
          "metadata": {},
          "execution_count": 3
        }
      ]
    },
    {
      "cell_type": "code",
      "source": [
        "data.tail()"
      ],
      "metadata": {
        "colab": {
          "base_uri": "https://localhost:8080/",
          "height": 206
        },
        "id": "H-1BIItfMvjz",
        "outputId": "4c86e142-de76-41a2-f456-2cb036877b34"
      },
      "execution_count": 4,
      "outputs": [
        {
          "output_type": "execute_result",
          "data": {
            "text/plain": [
              "     CustomerID  Gender  Age  Annual Income (k$)  Spending Score (1-100)\n",
              "195         196  Female   35                 120                      79\n",
              "196         197  Female   45                 126                      28\n",
              "197         198    Male   32                 126                      74\n",
              "198         199    Male   32                 137                      18\n",
              "199         200    Male   30                 137                      83"
            ],
            "text/html": [
              "\n",
              "  <div id=\"df-165628de-bf40-4c5a-a063-75bc07afb926\">\n",
              "    <div class=\"colab-df-container\">\n",
              "      <div>\n",
              "<style scoped>\n",
              "    .dataframe tbody tr th:only-of-type {\n",
              "        vertical-align: middle;\n",
              "    }\n",
              "\n",
              "    .dataframe tbody tr th {\n",
              "        vertical-align: top;\n",
              "    }\n",
              "\n",
              "    .dataframe thead th {\n",
              "        text-align: right;\n",
              "    }\n",
              "</style>\n",
              "<table border=\"1\" class=\"dataframe\">\n",
              "  <thead>\n",
              "    <tr style=\"text-align: right;\">\n",
              "      <th></th>\n",
              "      <th>CustomerID</th>\n",
              "      <th>Gender</th>\n",
              "      <th>Age</th>\n",
              "      <th>Annual Income (k$)</th>\n",
              "      <th>Spending Score (1-100)</th>\n",
              "    </tr>\n",
              "  </thead>\n",
              "  <tbody>\n",
              "    <tr>\n",
              "      <th>195</th>\n",
              "      <td>196</td>\n",
              "      <td>Female</td>\n",
              "      <td>35</td>\n",
              "      <td>120</td>\n",
              "      <td>79</td>\n",
              "    </tr>\n",
              "    <tr>\n",
              "      <th>196</th>\n",
              "      <td>197</td>\n",
              "      <td>Female</td>\n",
              "      <td>45</td>\n",
              "      <td>126</td>\n",
              "      <td>28</td>\n",
              "    </tr>\n",
              "    <tr>\n",
              "      <th>197</th>\n",
              "      <td>198</td>\n",
              "      <td>Male</td>\n",
              "      <td>32</td>\n",
              "      <td>126</td>\n",
              "      <td>74</td>\n",
              "    </tr>\n",
              "    <tr>\n",
              "      <th>198</th>\n",
              "      <td>199</td>\n",
              "      <td>Male</td>\n",
              "      <td>32</td>\n",
              "      <td>137</td>\n",
              "      <td>18</td>\n",
              "    </tr>\n",
              "    <tr>\n",
              "      <th>199</th>\n",
              "      <td>200</td>\n",
              "      <td>Male</td>\n",
              "      <td>30</td>\n",
              "      <td>137</td>\n",
              "      <td>83</td>\n",
              "    </tr>\n",
              "  </tbody>\n",
              "</table>\n",
              "</div>\n",
              "      <button class=\"colab-df-convert\" onclick=\"convertToInteractive('df-165628de-bf40-4c5a-a063-75bc07afb926')\"\n",
              "              title=\"Convert this dataframe to an interactive table.\"\n",
              "              style=\"display:none;\">\n",
              "        \n",
              "  <svg xmlns=\"http://www.w3.org/2000/svg\" height=\"24px\"viewBox=\"0 0 24 24\"\n",
              "       width=\"24px\">\n",
              "    <path d=\"M0 0h24v24H0V0z\" fill=\"none\"/>\n",
              "    <path d=\"M18.56 5.44l.94 2.06.94-2.06 2.06-.94-2.06-.94-.94-2.06-.94 2.06-2.06.94zm-11 1L8.5 8.5l.94-2.06 2.06-.94-2.06-.94L8.5 2.5l-.94 2.06-2.06.94zm10 10l.94 2.06.94-2.06 2.06-.94-2.06-.94-.94-2.06-.94 2.06-2.06.94z\"/><path d=\"M17.41 7.96l-1.37-1.37c-.4-.4-.92-.59-1.43-.59-.52 0-1.04.2-1.43.59L10.3 9.45l-7.72 7.72c-.78.78-.78 2.05 0 2.83L4 21.41c.39.39.9.59 1.41.59.51 0 1.02-.2 1.41-.59l7.78-7.78 2.81-2.81c.8-.78.8-2.07 0-2.86zM5.41 20L4 18.59l7.72-7.72 1.47 1.35L5.41 20z\"/>\n",
              "  </svg>\n",
              "      </button>\n",
              "      \n",
              "  <style>\n",
              "    .colab-df-container {\n",
              "      display:flex;\n",
              "      flex-wrap:wrap;\n",
              "      gap: 12px;\n",
              "    }\n",
              "\n",
              "    .colab-df-convert {\n",
              "      background-color: #E8F0FE;\n",
              "      border: none;\n",
              "      border-radius: 50%;\n",
              "      cursor: pointer;\n",
              "      display: none;\n",
              "      fill: #1967D2;\n",
              "      height: 32px;\n",
              "      padding: 0 0 0 0;\n",
              "      width: 32px;\n",
              "    }\n",
              "\n",
              "    .colab-df-convert:hover {\n",
              "      background-color: #E2EBFA;\n",
              "      box-shadow: 0px 1px 2px rgba(60, 64, 67, 0.3), 0px 1px 3px 1px rgba(60, 64, 67, 0.15);\n",
              "      fill: #174EA6;\n",
              "    }\n",
              "\n",
              "    [theme=dark] .colab-df-convert {\n",
              "      background-color: #3B4455;\n",
              "      fill: #D2E3FC;\n",
              "    }\n",
              "\n",
              "    [theme=dark] .colab-df-convert:hover {\n",
              "      background-color: #434B5C;\n",
              "      box-shadow: 0px 1px 3px 1px rgba(0, 0, 0, 0.15);\n",
              "      filter: drop-shadow(0px 1px 2px rgba(0, 0, 0, 0.3));\n",
              "      fill: #FFFFFF;\n",
              "    }\n",
              "  </style>\n",
              "\n",
              "      <script>\n",
              "        const buttonEl =\n",
              "          document.querySelector('#df-165628de-bf40-4c5a-a063-75bc07afb926 button.colab-df-convert');\n",
              "        buttonEl.style.display =\n",
              "          google.colab.kernel.accessAllowed ? 'block' : 'none';\n",
              "\n",
              "        async function convertToInteractive(key) {\n",
              "          const element = document.querySelector('#df-165628de-bf40-4c5a-a063-75bc07afb926');\n",
              "          const dataTable =\n",
              "            await google.colab.kernel.invokeFunction('convertToInteractive',\n",
              "                                                     [key], {});\n",
              "          if (!dataTable) return;\n",
              "\n",
              "          const docLinkHtml = 'Like what you see? Visit the ' +\n",
              "            '<a target=\"_blank\" href=https://colab.research.google.com/notebooks/data_table.ipynb>data table notebook</a>'\n",
              "            + ' to learn more about interactive tables.';\n",
              "          element.innerHTML = '';\n",
              "          dataTable['output_type'] = 'display_data';\n",
              "          await google.colab.output.renderOutput(dataTable, element);\n",
              "          const docLink = document.createElement('div');\n",
              "          docLink.innerHTML = docLinkHtml;\n",
              "          element.appendChild(docLink);\n",
              "        }\n",
              "      </script>\n",
              "    </div>\n",
              "  </div>\n",
              "  "
            ]
          },
          "metadata": {},
          "execution_count": 4
        }
      ]
    },
    {
      "cell_type": "code",
      "source": [
        "data.info()"
      ],
      "metadata": {
        "colab": {
          "base_uri": "https://localhost:8080/"
        },
        "id": "4tcrl5tjM1Dr",
        "outputId": "f1e408f0-45d4-4a46-9f91-d164261ae165"
      },
      "execution_count": 5,
      "outputs": [
        {
          "output_type": "stream",
          "name": "stdout",
          "text": [
            "<class 'pandas.core.frame.DataFrame'>\n",
            "RangeIndex: 200 entries, 0 to 199\n",
            "Data columns (total 5 columns):\n",
            " #   Column                  Non-Null Count  Dtype \n",
            "---  ------                  --------------  ----- \n",
            " 0   CustomerID              200 non-null    int64 \n",
            " 1   Gender                  200 non-null    object\n",
            " 2   Age                     200 non-null    int64 \n",
            " 3   Annual Income (k$)      200 non-null    int64 \n",
            " 4   Spending Score (1-100)  200 non-null    int64 \n",
            "dtypes: int64(4), object(1)\n",
            "memory usage: 7.9+ KB\n"
          ]
        }
      ]
    },
    {
      "cell_type": "code",
      "source": [
        "data.shape"
      ],
      "metadata": {
        "colab": {
          "base_uri": "https://localhost:8080/"
        },
        "id": "ObeXWj3KM4rz",
        "outputId": "81af033f-a154-4922-80f3-149935c493aa"
      },
      "execution_count": 6,
      "outputs": [
        {
          "output_type": "execute_result",
          "data": {
            "text/plain": [
              "(200, 5)"
            ]
          },
          "metadata": {},
          "execution_count": 6
        }
      ]
    },
    {
      "cell_type": "code",
      "source": [
        "#Univariate Analysis\n",
        "plt.hist(data['Age'])"
      ],
      "metadata": {
        "colab": {
          "base_uri": "https://localhost:8080/",
          "height": 317
        },
        "id": "ND2KwaHPM8eS",
        "outputId": "fb7e969f-b8d7-45ff-e565-aced61fcd7c1"
      },
      "execution_count": 7,
      "outputs": [
        {
          "output_type": "execute_result",
          "data": {
            "text/plain": [
              "(array([31., 19., 34., 29., 16., 26., 15., 10.,  6., 14.]),\n",
              " array([18. , 23.2, 28.4, 33.6, 38.8, 44. , 49.2, 54.4, 59.6, 64.8, 70. ]),\n",
              " <a list of 10 Patch objects>)"
            ]
          },
          "metadata": {},
          "execution_count": 7
        },
        {
          "output_type": "display_data",
          "data": {
            "text/plain": [
              "<Figure size 432x288 with 1 Axes>"
            ],
            "image/png": "[encoded data removed]"
          },
          "metadata": {
            "needs_background": "light"
          }
        }
      ]
    },
    {
      "cell_type": "code",
      "source": [
        "sns.countplot(data.Gender)\n"
      ],
      "metadata": {
        "colab": {
          "base_uri": "https://localhost:8080/",
          "height": 296
        },
        "id": "yJqEKeFuM__r",
        "outputId": "e7c80da1-0c26-4e91-872f-23b1c66ac48d"
      },
      "execution_count": 8,
      "outputs": [
        {
          "output_type": "execute_result",
          "data": {
            "text/plain": [
              "<matplotlib.axes._subplots.AxesSubplot at 0x7fa67776d810>"
            ]
          },
          "metadata": {},
          "execution_count": 8
        },
        {
          "output_type": "display_data",
          "data": {
            "text/plain": [
              "<Figure size 432x288 with 1 Axes>"
            ],
            "image/png": "[encoded data removed]"
          },
          "metadata": {
            "needs_background": "light"
          }
        }
      ]
    },
    {
      "cell_type": "code",
      "source": [
        "sns.boxplot(data['Annual Income (k$)'])"
      ],
      "metadata": {
        "colab": {
          "base_uri": "https://localhost:8080/",
          "height": 296
        },
        "id": "XQvknjGyNGtq",
        "outputId": "7d72ea75-c4cd-4e82-aef0-38caafe0e72f"
      },
      "execution_count": 9,
      "outputs": [
        {
          "output_type": "execute_result",
          "data": {
            "text/plain": [
              "<matplotlib.axes._subplots.AxesSubplot at 0x7fa6772959d0>"
            ]
          },
          "metadata": {},
          "execution_count": 9
        },
        {
          "output_type": "display_data",
          "data": {
            "text/plain": [
              "<Figure size 432x288 with 1 Axes>"
            ],
            "image/png": "[encoded data removed]"
          },
          "metadata": {
            "needs_background": "light"
          }
        }
      ]
    },
    {
      "cell_type": "code",
      "source": [
        "#Bi- Variate Analysis\n",
        "plt.bar(data['Gender'],data['Age'])"
      ],
      "metadata": {
        "colab": {
          "base_uri": "https://localhost:8080/",
          "height": 282
        },
        "id": "_ZZVQRxlNR3T",
        "outputId": "9ac45ec9-9788-43a2-e679-be1d98beae29"
      },
      "execution_count": 10,
      "outputs": [
        {
          "output_type": "execute_result",
          "data": {
            "text/plain": [
              "<BarContainer object of 200 artists>"
            ]
          },
          "metadata": {},
          "execution_count": 10
        },
        {
          "output_type": "display_data",
          "data": {
            "text/plain": [
              "<Figure size 432x288 with 1 Axes>"
            ],
            "image/png": "[encoded data removed]"
          },
          "metadata": {
            "needs_background": "light"
          }
        }
      ]
    },
    {
      "cell_type": "code",
      "source": [
        "plt.scatter(data['Age'],data['CustomerID'])"
      ],
      "metadata": {
        "colab": {
          "base_uri": "https://localhost:8080/",
          "height": 282
        },
        "id": "2ZQTjDAXNVTr",
        "outputId": "de4dda67-ceb1-4107-86de-cc912f1485d7"
      },
      "execution_count": 11,
      "outputs": [
        {
          "output_type": "execute_result",
          "data": {
            "text/plain": [
              "<matplotlib.collections.PathCollection at 0x7fa676f03710>"
            ]
          },
          "metadata": {},
          "execution_count": 11
        },
        {
          "output_type": "display_data",
          "data": {
            "text/plain": [
              "<Figure size 432x288 with 1 Axes>"
            ],
            "image/png": "[encoded data removed]"
          },
          "metadata": {
            "needs_background": "light"
          }
        }
      ]
    },
    {
      "cell_type": "code",
      "source": [
        "sns.barplot(x=data.Gender,y=data.Age)"
      ],
      "metadata": {
        "colab": {
          "base_uri": "https://localhost:8080/",
          "height": 296
        },
        "id": "CQivsan5NY0L",
        "outputId": "f0e4c6e0-ee98-426e-b38f-c657edc7a618"
      },
      "execution_count": 12,
      "outputs": [
        {
          "output_type": "execute_result",
          "data": {
            "text/plain": [
              "<matplotlib.axes._subplots.AxesSubplot at 0x7fa676ed4250>"
            ]
          },
          "metadata": {},
          "execution_count": 12
        },
        {
          "output_type": "display_data",
          "data": {
            "text/plain": [
              "<Figure size 432x288 with 1 Axes>"
            ],
            "image/png": "[encoded data removed]"
          },
          "metadata": {
            "needs_background": "light"
          }
        }
      ]
    },
    {
      "cell_type": "code",
      "source": [
        "sns.boxplot(x=data.Gender,y=data.Age)"
      ],
      "metadata": {
        "colab": {
          "base_uri": "https://localhost:8080/",
          "height": 296
        },
        "id": "JFkSWyDZNegs",
        "outputId": "8d803493-1460-446d-cfd0-aa0b94d66376"
      },
      "execution_count": 13,
      "outputs": [
        {
          "output_type": "execute_result",
          "data": {
            "text/plain": [
              "<matplotlib.axes._subplots.AxesSubplot at 0x7fa676f2e9d0>"
            ]
          },
          "metadata": {},
          "execution_count": 13
        },
        {
          "output_type": "display_data",
          "data": {
            "text/plain": [
              "<Figure size 432x288 with 1 Axes>"
            ],
            "image/png": "[encoded data removed]"
          },
          "metadata": {
            "needs_background": "light"
          }
        }
      ]
    },
    {
      "cell_type": "code",
      "source": [
        "sns.scatterplot(data.CustomerID,data.Age)"
      ],
      "metadata": {
        "colab": {
          "base_uri": "https://localhost:8080/",
          "height": 296
        },
        "id": "aMm3mlqdNj1b",
        "outputId": "15ae1525-c7d3-4507-f94e-18b8cd534cb4"
      },
      "execution_count": 14,
      "outputs": [
        {
          "output_type": "execute_result",
          "data": {
            "text/plain": [
              "<matplotlib.axes._subplots.AxesSubplot at 0x7fa676d842d0>"
            ]
          },
          "metadata": {},
          "execution_count": 14
        },
        {
          "output_type": "display_data",
          "data": {
            "text/plain": [
              "<Figure size 432x288 with 1 Axes>"
            ],
            "image/png": "[encoded data removed]"
          },
          "metadata": {
            "needs_background": "light"
          }
        }
      ]
    },
    {
      "cell_type": "code",
      "source": [
        "#Multi-Variate Analysis\n",
        "sns.set(font_scale=1.15)\n",
        "plt.figure(figsize=(30,15))\n",
        "sns.heatmap(data.corr(),cmap='RdYlGn_r',annot=True,).set_title('Multivariate analysis')"
      ],
      "metadata": {
        "colab": {
          "base_uri": "https://localhost:8080/",
          "height": 389
        },
        "id": "XF5fJ4z0No2D",
        "outputId": "be34f791-0a1a-449a-db26-45efb2fe628f"
      },
      "execution_count": 15,
      "outputs": [
        {
          "output_type": "execute_result",
          "data": {
            "text/plain": [
              "Text(0.5, 1.0, 'Multivariate analysis')"
            ]
          },
          "metadata": {},
          "execution_count": 15
        },
        {
          "output_type": "display_data",
          "data": {
            "text/plain": [
              "<Figure size 2160x1080 with 2 Axes>"
            ],
            "image/png": "[encoded data removed]"
          },
          "metadata": {}
        }
      ]
    },
    {
      "cell_type": "code",
      "source": [
        "sns.pairplot(data)"
      ],
      "metadata": {
        "colab": {
          "base_uri": "https://localhost:8080/",
          "height": 666
        },
        "id": "TaZYUxg8NswC",
        "outputId": "24a7133b-e05a-4c46-97e0-0471345ed5a8"
      },
      "execution_count": 16,
      "outputs": [
        {
          "output_type": "execute_result",
          "data": {
            "text/plain": [
              "<seaborn.axisgrid.PairGrid at 0x7fa67445df10>"
            ]
          },
          "metadata": {},
          "execution_count": 16
        },
        {
          "output_type": "display_data",
          "data": {
            "text/plain": [
              "<Figure size 720x720 with 20 Axes>"
            ],
            "image/png": "[encoded data removed]"
          },
          "metadata": {}
        }
      ]
    },
    {
      "cell_type": "code",
      "source": [
        "sns.relplot(x = \"Age\", y = \"CustomerID\" , hue = \"Gender\",data = data)\n"
      ],
      "metadata": {
        "colab": {
          "base_uri": "https://localhost:8080/",
          "height": 378
        },
        "id": "6c2u2l26Ny6i",
        "outputId": "5c56c22f-ba28-4fa4-b021-9cbfa355e8c6"
      },
      "execution_count": 17,
      "outputs": [
        {
          "output_type": "execute_result",
          "data": {
            "text/plain": [
              "<seaborn.axisgrid.FacetGrid at 0x7fa6777c4810>"
            ]
          },
          "metadata": {},
          "execution_count": 17
        },
        {
          "output_type": "display_data",
          "data": {
            "text/plain": [
              "<Figure size 451.415x360 with 1 Axes>"
            ],
            "image/png": "[encoded data removed]"
          },
          "metadata": {}
        }
      ]
    },
    {
      "cell_type": "code",
      "source": [
        "sns.catplot(x = \"Age\",y =\"CustomerID\",hue = \"Gender\",data= data)"
      ],
      "metadata": {
        "colab": {
          "base_uri": "https://localhost:8080/",
          "height": 378
        },
        "id": "w4r0RYh8N28i",
        "outputId": "47c047f2-eb3f-4a85-fc2a-42766af8a077"
      },
      "execution_count": 18,
      "outputs": [
        {
          "output_type": "execute_result",
          "data": {
            "text/plain": [
              "<seaborn.axisgrid.FacetGrid at 0x7fa673da5e50>"
            ]
          },
          "metadata": {},
          "execution_count": 18
        },
        {
          "output_type": "display_data",
          "data": {
            "text/plain": [
              "<Figure size 451.415x360 with 1 Axes>"
            ],
            "image/png": "[encoded data removed]"
          },
          "metadata": {}
        }
      ]
    },
    {
      "cell_type": "code",
      "source": [
        "#Perform descriptive statistics on the dataset.\n",
        "data.describe()"
      ],
      "metadata": {
        "colab": {
          "base_uri": "https://localhost:8080/",
          "height": 300
        },
        "id": "jeZF_dFfN8TT",
        "outputId": "f4d2f55e-8ad3-48c6-c9a9-7f95afd89ba6"
      },
      "execution_count": 19,
      "outputs": [
        {
          "output_type": "execute_result",
          "data": {
            "text/plain": [
              "       CustomerID         Age  Annual Income (k$)  Spending Score (1-100)\n",
              "count  200.000000  200.000000          200.000000              200.000000\n",
              "mean   100.500000   38.850000           60.560000               50.200000\n",
              "std     57.879185   13.969007           26.264721               25.823522\n",
              "min      1.000000   18.000000           15.000000                1.000000\n",
              "25%     50.750000   28.750000           41.500000               34.750000\n",
              "50%    100.500000   36.000000           61.500000               50.000000\n",
              "75%    150.250000   49.000000           78.000000               73.000000\n",
              "max    200.000000   70.000000          137.000000               99.000000"
            ],
            "text/html": [
              "\n",
              "  <div id=\"df-f90b0447-e925-48d0-a308-24d259f80e05\">\n",
              "    <div class=\"colab-df-container\">\n",
              "      <div>\n",
              "<style scoped>\n",
              "    .dataframe tbody tr th:only-of-type {\n",
              "        vertical-align: middle;\n",
              "    }\n",
              "\n",
              "    .dataframe tbody tr th {\n",
              "        vertical-align: top;\n",
              "    }\n",
              "\n",
              "    .dataframe thead th {\n",
              "        text-align: right;\n",
              "    }\n",
              "</style>\n",
              "<table border=\"1\" class=\"dataframe\">\n",
              "  <thead>\n",
              "    <tr style=\"text-align: right;\">\n",
              "      <th></th>\n",
              "      <th>CustomerID</th>\n",
              "      <th>Age</th>\n",
              "      <th>Annual Income (k$)</th>\n",
              "      <th>Spending Score (1-100)</th>\n",
              "    </tr>\n",
              "  </thead>\n",
              "  <tbody>\n",
              "    <tr>\n",
              "      <th>count</th>\n",
              "      <td>200.000000</td>\n",
              "      <td>200.000000</td>\n",
              "      <td>200.000000</td>\n",
              "      <td>200.000000</td>\n",
              "    </tr>\n",
              "    <tr>\n",
              "      <th>mean</th>\n",
              "      <td>100.500000</td>\n",
              "      <td>38.850000</td>\n",
              "      <td>60.560000</td>\n",
              "      <td>50.200000</td>\n",
              "    </tr>\n",
              "    <tr>\n",
              "      <th>std</th>\n",
              "      <td>57.879185</td>\n",
              "      <td>13.969007</td>\n",
              "      <td>26.264721</td>\n",
              "      <td>25.823522</td>\n",
              "    </tr>\n",
              "    <tr>\n",
              "      <th>min</th>\n",
              "      <td>1.000000</td>\n",
              "      <td>18.000000</td>\n",
              "      <td>15.000000</td>\n",
              "      <td>1.000000</td>\n",
              "    </tr>\n",
              "    <tr>\n",
              "      <th>25%</th>\n",
              "      <td>50.750000</td>\n",
              "      <td>28.750000</td>\n",
              "      <td>41.500000</td>\n",
              "      <td>34.750000</td>\n",
              "    </tr>\n",
              "    <tr>\n",
              "      <th>50%</th>\n",
              "      <td>100.500000</td>\n",
              "      <td>36.000000</td>\n",
              "      <td>61.500000</td>\n",
              "      <td>50.000000</td>\n",
              "    </tr>\n",
              "    <tr>\n",
              "      <th>75%</th>\n",
              "      <td>150.250000</td>\n",
              "      <td>49.000000</td>\n",
              "      <td>78.000000</td>\n",
              "      <td>73.000000</td>\n",
              "    </tr>\n",
              "    <tr>\n",
              "      <th>max</th>\n",
              "      <td>200.000000</td>\n",
              "      <td>70.000000</td>\n",
              "      <td>137.000000</td>\n",
              "      <td>99.000000</td>\n",
              "    </tr>\n",
              "  </tbody>\n",
              "</table>\n",
              "</div>\n",
              "      <button class=\"colab-df-convert\" onclick=\"convertToInteractive('df-f90b0447-e925-48d0-a308-24d259f80e05')\"\n",
              "              title=\"Convert this dataframe to an interactive table.\"\n",
              "              style=\"display:none;\">\n",
              "        \n",
              "  <svg xmlns=\"http://www.w3.org/2000/svg\" height=\"24px\"viewBox=\"0 0 24 24\"\n",
              "       width=\"24px\">\n",
              "    <path d=\"M0 0h24v24H0V0z\" fill=\"none\"/>\n",
              "    <path d=\"M18.56 5.44l.94 2.06.94-2.06 2.06-.94-2.06-.94-.94-2.06-.94 2.06-2.06.94zm-11 1L8.5 8.5l.94-2.06 2.06-.94-2.06-.94L8.5 2.5l-.94 2.06-2.06.94zm10 10l.94 2.06.94-2.06 2.06-.94-2.06-.94-.94-2.06-.94 2.06-2.06.94z\"/><path d=\"M17.41 7.96l-1.37-1.37c-.4-.4-.92-.59-1.43-.59-.52 0-1.04.2-1.43.59L10.3 9.45l-7.72 7.72c-.78.78-.78 2.05 0 2.83L4 21.41c.39.39.9.59 1.41.59.51 0 1.02-.2 1.41-.59l7.78-7.78 2.81-2.81c.8-.78.8-2.07 0-2.86zM5.41 20L4 18.59l7.72-7.72 1.47 1.35L5.41 20z\"/>\n",
              "  </svg>\n",
              "      </button>\n",
              "      \n",
              "  <style>\n",
              "    .colab-df-container {\n",
              "      display:flex;\n",
              "      flex-wrap:wrap;\n",
              "      gap: 12px;\n",
              "    }\n",
              "\n",
              "    .colab-df-convert {\n",
              "      background-color: #E8F0FE;\n",
              "      border: none;\n",
              "      border-radius: 50%;\n",
              "      cursor: pointer;\n",
              "      display: none;\n",
              "      fill: #1967D2;\n",
              "      height: 32px;\n",
              "      padding: 0 0 0 0;\n",
              "      width: 32px;\n",
              "    }\n",
              "\n",
              "    .colab-df-convert:hover {\n",
              "      background-color: #E2EBFA;\n",
              "      box-shadow: 0px 1px 2px rgba(60, 64, 67, 0.3), 0px 1px 3px 1px rgba(60, 64, 67, 0.15);\n",
              "      fill: #174EA6;\n",
              "    }\n",
              "\n",
              "    [theme=dark] .colab-df-convert {\n",
              "      background-color: #3B4455;\n",
              "      fill: #D2E3FC;\n",
              "    }\n",
              "\n",
              "    [theme=dark] .colab-df-convert:hover {\n",
              "      background-color: #434B5C;\n",
              "      box-shadow: 0px 1px 3px 1px rgba(0, 0, 0, 0.15);\n",
              "      filter: drop-shadow(0px 1px 2px rgba(0, 0, 0, 0.3));\n",
              "      fill: #FFFFFF;\n",
              "    }\n",
              "  </style>\n",
              "\n",
              "      <script>\n",
              "        const buttonEl =\n",
              "          document.querySelector('#df-f90b0447-e925-48d0-a308-24d259f80e05 button.colab-df-convert');\n",
              "        buttonEl.style.display =\n",
              "          google.colab.kernel.accessAllowed ? 'block' : 'none';\n",
              "\n",
              "        async function convertToInteractive(key) {\n",
              "          const element = document.querySelector('#df-f90b0447-e925-48d0-a308-24d259f80e05');\n",
              "          const dataTable =\n",
              "            await google.colab.kernel.invokeFunction('convertToInteractive',\n",
              "                                                     [key], {});\n",
              "          if (!dataTable) return;\n",
              "\n",
              "          const docLinkHtml = 'Like what you see? Visit the ' +\n",
              "            '<a target=\"_blank\" href=https://colab.research.google.com/notebooks/data_table.ipynb>data table notebook</a>'\n",
              "            + ' to learn more about interactive tables.';\n",
              "          element.innerHTML = '';\n",
              "          dataTable['output_type'] = 'display_data';\n",
              "          await google.colab.output.renderOutput(dataTable, element);\n",
              "          const docLink = document.createElement('div');\n",
              "          docLink.innerHTML = docLinkHtml;\n",
              "          element.appendChild(docLink);\n",
              "        }\n",
              "      </script>\n",
              "    </div>\n",
              "  </div>\n",
              "  "
            ]
          },
          "metadata": {},
          "execution_count": 19
        }
      ]
    },
    {
      "cell_type": "code",
      "source": [
        "#mean\n",
        "data['Age'].mean()"
      ],
      "metadata": {
        "colab": {
          "base_uri": "https://localhost:8080/"
        },
        "id": "YgEI8WOBN_Lz",
        "outputId": "53aa95fb-61b8-41f1-a2fd-f90a3b16c3a2"
      },
      "execution_count": 20,
      "outputs": [
        {
          "output_type": "execute_result",
          "data": {
            "text/plain": [
              "38.85"
            ]
          },
          "metadata": {},
          "execution_count": 20
        }
      ]
    },
    {
      "cell_type": "code",
      "source": [
        "#median\n",
        "data.median()"
      ],
      "metadata": {
        "colab": {
          "base_uri": "https://localhost:8080/"
        },
        "id": "PKVawO23ODC6",
        "outputId": "2161c0eb-eece-4538-87ad-417e11acba81"
      },
      "execution_count": 21,
      "outputs": [
        {
          "output_type": "execute_result",
          "data": {
            "text/plain": [
              "CustomerID                100.5\n",
              "Age                        36.0\n",
              "Annual Income (k$)         61.5\n",
              "Spending Score (1-100)     50.0\n",
              "dtype: float64"
            ]
          },
          "metadata": {},
          "execution_count": 21
        }
      ]
    },
    {
      "cell_type": "code",
      "source": [
        "data['Age'].mode()"
      ],
      "metadata": {
        "colab": {
          "base_uri": "https://localhost:8080/"
        },
        "id": "6SCNefmnOF0r",
        "outputId": "1335d97f-3623-42c3-c3ee-3a1fae16136d"
      },
      "execution_count": 22,
      "outputs": [
        {
          "output_type": "execute_result",
          "data": {
            "text/plain": [
              "0    32\n",
              "dtype: int64"
            ]
          },
          "metadata": {},
          "execution_count": 22
        }
      ]
    },
    {
      "cell_type": "code",
      "source": [
        "#mode\n",
        "data.mode()"
      ],
      "metadata": {
        "colab": {
          "base_uri": "https://localhost:8080/",
          "height": 424
        },
        "id": "7J-kmqTXOIsj",
        "outputId": "760f248a-5266-41f9-fa03-5b494bb432d8"
      },
      "execution_count": 23,
      "outputs": [
        {
          "output_type": "execute_result",
          "data": {
            "text/plain": [
              "     CustomerID  Gender   Age  Annual Income (k$)  Spending Score (1-100)\n",
              "0             1  Female  32.0                54.0                    42.0\n",
              "1             2     NaN   NaN                78.0                     NaN\n",
              "2             3     NaN   NaN                 NaN                     NaN\n",
              "3             4     NaN   NaN                 NaN                     NaN\n",
              "4             5     NaN   NaN                 NaN                     NaN\n",
              "..          ...     ...   ...                 ...                     ...\n",
              "195         196     NaN   NaN                 NaN                     NaN\n",
              "196         197     NaN   NaN                 NaN                     NaN\n",
              "197         198     NaN   NaN                 NaN                     NaN\n",
              "198         199     NaN   NaN                 NaN                     NaN\n",
              "199         200     NaN   NaN                 NaN                     NaN\n",
              "\n",
              "[200 rows x 5 columns]"
            ],
            "text/html": [
              "\n",
              "  <div id=\"df-efcbfc1e-9b4b-4101-ae73-f5841e8aa6ad\">\n",
              "    <div class=\"colab-df-container\">\n",
              "      <div>\n",
              "<style scoped>\n",
              "    .dataframe tbody tr th:only-of-type {\n",
              "        vertical-align: middle;\n",
              "    }\n",
              "\n",
              "    .dataframe tbody tr th {\n",
              "        vertical-align: top;\n",
              "    }\n",
              "\n",
              "    .dataframe thead th {\n",
              "        text-align: right;\n",
              "    }\n",
              "</style>\n",
              "<table border=\"1\" class=\"dataframe\">\n",
              "  <thead>\n",
              "    <tr style=\"text-align: right;\">\n",
              "      <th></th>\n",
              "      <th>CustomerID</th>\n",
              "      <th>Gender</th>\n",
              "      <th>Age</th>\n",
              "      <th>Annual Income (k$)</th>\n",
              "      <th>Spending Score (1-100)</th>\n",
              "    </tr>\n",
              "  </thead>\n",
              "  <tbody>\n",
              "    <tr>\n",
              "      <th>0</th>\n",
              "      <td>1</td>\n",
              "      <td>Female</td>\n",
              "      <td>32.0</td>\n",
              "      <td>54.0</td>\n",
              "      <td>42.0</td>\n",
              "    </tr>\n",
              "    <tr>\n",
              "      <th>1</th>\n",
              "      <td>2</td>\n",
              "      <td>NaN</td>\n",
              "      <td>NaN</td>\n",
              "      <td>78.0</td>\n",
              "      <td>NaN</td>\n",
              "    </tr>\n",
              "    <tr>\n",
              "      <th>2</th>\n",
              "      <td>3</td>\n",
              "      <td>NaN</td>\n",
              "      <td>NaN</td>\n",
              "      <td>NaN</td>\n",
              "      <td>NaN</td>\n",
              "    </tr>\n",
              "    <tr>\n",
              "      <th>3</th>\n",
              "      <td>4</td>\n",
              "      <td>NaN</td>\n",
              "      <td>NaN</td>\n",
              "      <td>NaN</td>\n",
              "      <td>NaN</td>\n",
              "    </tr>\n",
              "    <tr>\n",
              "      <th>4</th>\n",
              "      <td>5</td>\n",
              "      <td>NaN</td>\n",
              "      <td>NaN</td>\n",
              "      <td>NaN</td>\n",
              "      <td>NaN</td>\n",
              "    </tr>\n",
              "    <tr>\n",
              "      <th>...</th>\n",
              "      <td>...</td>\n",
              "      <td>...</td>\n",
              "      <td>...</td>\n",
              "      <td>...</td>\n",
              "      <td>...</td>\n",
              "    </tr>\n",
              "    <tr>\n",
              "      <th>195</th>\n",
              "      <td>196</td>\n",
              "      <td>NaN</td>\n",
              "      <td>NaN</td>\n",
              "      <td>NaN</td>\n",
              "      <td>NaN</td>\n",
              "    </tr>\n",
              "    <tr>\n",
              "      <th>196</th>\n",
              "      <td>197</td>\n",
              "      <td>NaN</td>\n",
              "      <td>NaN</td>\n",
              "      <td>NaN</td>\n",
              "      <td>NaN</td>\n",
              "    </tr>\n",
              "    <tr>\n",
              "      <th>197</th>\n",
              "      <td>198</td>\n",
              "      <td>NaN</td>\n",
              "      <td>NaN</td>\n",
              "      <td>NaN</td>\n",
              "      <td>NaN</td>\n",
              "    </tr>\n",
              "    <tr>\n",
              "      <th>198</th>\n",
              "      <td>199</td>\n",
              "      <td>NaN</td>\n",
              "      <td>NaN</td>\n",
              "      <td>NaN</td>\n",
              "      <td>NaN</td>\n",
              "    </tr>\n",
              "    <tr>\n",
              "      <th>199</th>\n",
              "      <td>200</td>\n",
              "      <td>NaN</td>\n",
              "      <td>NaN</td>\n",
              "      <td>NaN</td>\n",
              "      <td>NaN</td>\n",
              "    </tr>\n",
              "  </tbody>\n",
              "</table>\n",
              "<p>200 rows × 5 columns</p>\n",
              "</div>\n",
              "      <button class=\"colab-df-convert\" onclick=\"convertToInteractive('df-efcbfc1e-9b4b-4101-ae73-f5841e8aa6ad')\"\n",
              "              title=\"Convert this dataframe to an interactive table.\"\n",
              "              style=\"display:none;\">\n",
              "        \n",
              "  <svg xmlns=\"http://www.w3.org/2000/svg\" height=\"24px\"viewBox=\"0 0 24 24\"\n",
              "       width=\"24px\">\n",
              "    <path d=\"M0 0h24v24H0V0z\" fill=\"none\"/>\n",
              "    <path d=\"M18.56 5.44l.94 2.06.94-2.06 2.06-.94-2.06-.94-.94-2.06-.94 2.06-2.06.94zm-11 1L8.5 8.5l.94-2.06 2.06-.94-2.06-.94L8.5 2.5l-.94 2.06-2.06.94zm10 10l.94 2.06.94-2.06 2.06-.94-2.06-.94-.94-2.06-.94 2.06-2.06.94z\"/><path d=\"M17.41 7.96l-1.37-1.37c-.4-.4-.92-.59-1.43-.59-.52 0-1.04.2-1.43.59L10.3 9.45l-7.72 7.72c-.78.78-.78 2.05 0 2.83L4 21.41c.39.39.9.59 1.41.59.51 0 1.02-.2 1.41-.59l7.78-7.78 2.81-2.81c.8-.78.8-2.07 0-2.86zM5.41 20L4 18.59l7.72-7.72 1.47 1.35L5.41 20z\"/>\n",
              "  </svg>\n",
              "      </button>\n",
              "      \n",
              "  <style>\n",
              "    .colab-df-container {\n",
              "      display:flex;\n",
              "      flex-wrap:wrap;\n",
              "      gap: 12px;\n",
              "    }\n",
              "\n",
              "    .colab-df-convert {\n",
              "      background-color: #E8F0FE;\n",
              "      border: none;\n",
              "      border-radius: 50%;\n",
              "      cursor: pointer;\n",
              "      display: none;\n",
              "      fill: #1967D2;\n",
              "      height: 32px;\n",
              "      padding: 0 0 0 0;\n",
              "      width: 32px;\n",
              "    }\n",
              "\n",
              "    .colab-df-convert:hover {\n",
              "      background-color: #E2EBFA;\n",
              "      box-shadow: 0px 1px 2px rgba(60, 64, 67, 0.3), 0px 1px 3px 1px rgba(60, 64, 67, 0.15);\n",
              "      fill: #174EA6;\n",
              "    }\n",
              "\n",
              "    [theme=dark] .colab-df-convert {\n",
              "      background-color: #3B4455;\n",
              "      fill: #D2E3FC;\n",
              "    }\n",
              "\n",
              "    [theme=dark] .colab-df-convert:hover {\n",
              "      background-color: #434B5C;\n",
              "      box-shadow: 0px 1px 3px 1px rgba(0, 0, 0, 0.15);\n",
              "      filter: drop-shadow(0px 1px 2px rgba(0, 0, 0, 0.3));\n",
              "      fill: #FFFFFF;\n",
              "    }\n",
              "  </style>\n",
              "\n",
              "      <script>\n",
              "        const buttonEl =\n",
              "          document.querySelector('#df-efcbfc1e-9b4b-4101-ae73-f5841e8aa6ad button.colab-df-convert');\n",
              "        buttonEl.style.display =\n",
              "          google.colab.kernel.accessAllowed ? 'block' : 'none';\n",
              "\n",
              "        async function convertToInteractive(key) {\n",
              "          const element = document.querySelector('#df-efcbfc1e-9b4b-4101-ae73-f5841e8aa6ad');\n",
              "          const dataTable =\n",
              "            await google.colab.kernel.invokeFunction('convertToInteractive',\n",
              "                                                     [key], {});\n",
              "          if (!dataTable) return;\n",
              "\n",
              "          const docLinkHtml = 'Like what you see? Visit the ' +\n",
              "            '<a target=\"_blank\" href=https://colab.research.google.com/notebooks/data_table.ipynb>data table notebook</a>'\n",
              "            + ' to learn more about interactive tables.';\n",
              "          element.innerHTML = '';\n",
              "          dataTable['output_type'] = 'display_data';\n",
              "          await google.colab.output.renderOutput(dataTable, element);\n",
              "          const docLink = document.createElement('div');\n",
              "          docLink.innerHTML = docLinkHtml;\n",
              "          element.appendChild(docLink);\n",
              "        }\n",
              "      </script>\n",
              "    </div>\n",
              "  </div>\n",
              "  "
            ]
          },
          "metadata": {},
          "execution_count": 23
        }
      ]
    },
    {
      "cell_type": "code",
      "source": [
        "#std\n",
        "data.std()"
      ],
      "metadata": {
        "colab": {
          "base_uri": "https://localhost:8080/"
        },
        "id": "v-ZoIQOZOMpD",
        "outputId": "84381da0-c09d-4af0-d247-b65e362a263f"
      },
      "execution_count": 24,
      "outputs": [
        {
          "output_type": "execute_result",
          "data": {
            "text/plain": [
              "CustomerID                57.879185\n",
              "Age                       13.969007\n",
              "Annual Income (k$)        26.264721\n",
              "Spending Score (1-100)    25.823522\n",
              "dtype: float64"
            ]
          },
          "metadata": {},
          "execution_count": 24
        }
      ]
    },
    {
      "cell_type": "code",
      "source": [
        "#var\n",
        "data.var()"
      ],
      "metadata": {
        "colab": {
          "base_uri": "https://localhost:8080/"
        },
        "id": "GbegstR9OPIj",
        "outputId": "7a8b453f-66e9-4e5d-b7da-342c1484773a"
      },
      "execution_count": 25,
      "outputs": [
        {
          "output_type": "execute_result",
          "data": {
            "text/plain": [
              "CustomerID                3350.000000\n",
              "Age                        195.133166\n",
              "Annual Income (k$)         689.835578\n",
              "Spending Score (1-100)     666.854271\n",
              "dtype: float64"
            ]
          },
          "metadata": {},
          "execution_count": 25
        }
      ]
    },
    {
      "cell_type": "code",
      "source": [
        "#skewness\n",
        "data.skew()"
      ],
      "metadata": {
        "colab": {
          "base_uri": "https://localhost:8080/"
        },
        "id": "6FevEu7tORqT",
        "outputId": "477ee04f-5299-4e4d-9baa-ed01e2b2bbdd"
      },
      "execution_count": 26,
      "outputs": [
        {
          "output_type": "execute_result",
          "data": {
            "text/plain": [
              "CustomerID                0.000000\n",
              "Age                       0.485569\n",
              "Annual Income (k$)        0.321843\n",
              "Spending Score (1-100)   -0.047220\n",
              "dtype: float64"
            ]
          },
          "metadata": {},
          "execution_count": 26
        }
      ]
    },
    {
      "cell_type": "code",
      "source": [
        "print(sns.distplot(data['Age'])),print(sns.distplot(data['Age'],kde=True,))"
      ],
      "metadata": {
        "colab": {
          "base_uri": "https://localhost:8080/",
          "height": 341
        },
        "id": "6sSps20fOeUT",
        "outputId": "219bf77b-c739-4f66-9f05-4f42b4c0e76a"
      },
      "execution_count": 28,
      "outputs": [
        {
          "output_type": "stream",
          "name": "stdout",
          "text": [
            "AxesSubplot(0.125,0.125;0.775x0.755)\n",
            "AxesSubplot(0.125,0.125;0.775x0.755)\n"
          ]
        },
        {
          "output_type": "execute_result",
          "data": {
            "text/plain": [
              "(None, None)"
            ]
          },
          "metadata": {},
          "execution_count": 28
        },
        {
          "output_type": "display_data",
          "data": {
            "text/plain": [
              "<Figure size 432x288 with 1 Axes>"
            ],
            "image/png": "[encoded data removed]"
          },
          "metadata": {}
        }
      ]
    },
    {
      "cell_type": "code",
      "source": [
        "#kurtosis \n",
        "data.kurtosis()"
      ],
      "metadata": {
        "colab": {
          "base_uri": "https://localhost:8080/"
        },
        "id": "fzPO_qGKOvMT",
        "outputId": "e7d3b40c-ca02-452e-ec39-257d0c5fa05d"
      },
      "execution_count": 29,
      "outputs": [
        {
          "output_type": "execute_result",
          "data": {
            "text/plain": [
              "CustomerID               -1.200000\n",
              "Age                      -0.671573\n",
              "Annual Income (k$)       -0.098487\n",
              "Spending Score (1-100)   -0.826629\n",
              "dtype: float64"
            ]
          },
          "metadata": {},
          "execution_count": 29
        }
      ]
    },
    {
      "cell_type": "code",
      "source": [
        "# value counts \n",
        "data['Gender'].value_counts()"
      ],
      "metadata": {
        "colab": {
          "base_uri": "https://localhost:8080/"
        },
        "id": "ZGdGnCsHOyYB",
        "outputId": "2229976c-264d-48aa-b1b9-4fe655f7f14e"
      },
      "execution_count": 30,
      "outputs": [
        {
          "output_type": "execute_result",
          "data": {
            "text/plain": [
              "Female    112\n",
              "Male       88\n",
              "Name: Gender, dtype: int64"
            ]
          },
          "metadata": {},
          "execution_count": 30
        }
      ]
    },
    {
      "cell_type": "code",
      "source": [
        "data.corr()"
      ],
      "metadata": {
        "colab": {
          "base_uri": "https://localhost:8080/",
          "height": 254
        },
        "id": "6w7hnfTFO03D",
        "outputId": "ced6469d-9098-4a23-9385-a6d0fc2f2561"
      },
      "execution_count": 31,
      "outputs": [
        {
          "output_type": "execute_result",
          "data": {
            "text/plain": [
              "                        CustomerID       Age  Annual Income (k$)  \\\n",
              "CustomerID                1.000000 -0.026763            0.977548   \n",
              "Age                      -0.026763  1.000000           -0.012398   \n",
              "Annual Income (k$)        0.977548 -0.012398            1.000000   \n",
              "Spending Score (1-100)    0.013835 -0.327227            0.009903   \n",
              "\n",
              "                        Spending Score (1-100)  \n",
              "CustomerID                            0.013835  \n",
              "Age                                  -0.327227  \n",
              "Annual Income (k$)                    0.009903  \n",
              "Spending Score (1-100)                1.000000  "
            ],
            "text/html": [
              "\n",
              "  <div id=\"df-2d3f6bec-53b2-41c3-883b-725fb5ff5338\">\n",
              "    <div class=\"colab-df-container\">\n",
              "      <div>\n",
              "<style scoped>\n",
              "    .dataframe tbody tr th:only-of-type {\n",
              "        vertical-align: middle;\n",
              "    }\n",
              "\n",
              "    .dataframe tbody tr th {\n",
              "        vertical-align: top;\n",
              "    }\n",
              "\n",
              "    .dataframe thead th {\n",
              "        text-align: right;\n",
              "    }\n",
              "</style>\n",
              "<table border=\"1\" class=\"dataframe\">\n",
              "  <thead>\n",
              "    <tr style=\"text-align: right;\">\n",
              "      <th></th>\n",
              "      <th>CustomerID</th>\n",
              "      <th>Age</th>\n",
              "      <th>Annual Income (k$)</th>\n",
              "      <th>Spending Score (1-100)</th>\n",
              "    </tr>\n",
              "  </thead>\n",
              "  <tbody>\n",
              "    <tr>\n",
              "      <th>CustomerID</th>\n",
              "      <td>1.000000</td>\n",
              "      <td>-0.026763</td>\n",
              "      <td>0.977548</td>\n",
              "      <td>0.013835</td>\n",
              "    </tr>\n",
              "    <tr>\n",
              "      <th>Age</th>\n",
              "      <td>-0.026763</td>\n",
              "      <td>1.000000</td>\n",
              "      <td>-0.012398</td>\n",
              "      <td>-0.327227</td>\n",
              "    </tr>\n",
              "    <tr>\n",
              "      <th>Annual Income (k$)</th>\n",
              "      <td>0.977548</td>\n",
              "      <td>-0.012398</td>\n",
              "      <td>1.000000</td>\n",
              "      <td>0.009903</td>\n",
              "    </tr>\n",
              "    <tr>\n",
              "      <th>Spending Score (1-100)</th>\n",
              "      <td>0.013835</td>\n",
              "      <td>-0.327227</td>\n",
              "      <td>0.009903</td>\n",
              "      <td>1.000000</td>\n",
              "    </tr>\n",
              "  </tbody>\n",
              "</table>\n",
              "</div>\n",
              "      <button class=\"colab-df-convert\" onclick=\"convertToInteractive('df-2d3f6bec-53b2-41c3-883b-725fb5ff5338')\"\n",
              "              title=\"Convert this dataframe to an interactive table.\"\n",
              "              style=\"display:none;\">\n",
              "        \n",
              "  <svg xmlns=\"http://www.w3.org/2000/svg\" height=\"24px\"viewBox=\"0 0 24 24\"\n",
              "       width=\"24px\">\n",
              "    <path d=\"M0 0h24v24H0V0z\" fill=\"none\"/>\n",
              "    <path d=\"M18.56 5.44l.94 2.06.94-2.06 2.06-.94-2.06-.94-.94-2.06-.94 2.06-2.06.94zm-11 1L8.5 8.5l.94-2.06 2.06-.94-2.06-.94L8.5 2.5l-.94 2.06-2.06.94zm10 10l.94 2.06.94-2.06 2.06-.94-2.06-.94-.94-2.06-.94 2.06-2.06.94z\"/><path d=\"M17.41 7.96l-1.37-1.37c-.4-.4-.92-.59-1.43-.59-.52 0-1.04.2-1.43.59L10.3 9.45l-7.72 7.72c-.78.78-.78 2.05 0 2.83L4 21.41c.39.39.9.59 1.41.59.51 0 1.02-.2 1.41-.59l7.78-7.78 2.81-2.81c.8-.78.8-2.07 0-2.86zM5.41 20L4 18.59l7.72-7.72 1.47 1.35L5.41 20z\"/>\n",
              "  </svg>\n",
              "      </button>\n",
              "      \n",
              "  <style>\n",
              "    .colab-df-container {\n",
              "      display:flex;\n",
              "      flex-wrap:wrap;\n",
              "      gap: 12px;\n",
              "    }\n",
              "\n",
              "    .colab-df-convert {\n",
              "      background-color: #E8F0FE;\n",
              "      border: none;\n",
              "      border-radius: 50%;\n",
              "      cursor: pointer;\n",
              "      display: none;\n",
              "      fill: #1967D2;\n",
              "      height: 32px;\n",
              "      padding: 0 0 0 0;\n",
              "      width: 32px;\n",
              "    }\n",
              "\n",
              "    .colab-df-convert:hover {\n",
              "      background-color: #E2EBFA;\n",
              "      box-shadow: 0px 1px 2px rgba(60, 64, 67, 0.3), 0px 1px 3px 1px rgba(60, 64, 67, 0.15);\n",
              "      fill: #174EA6;\n",
              "    }\n",
              "\n",
              "    [theme=dark] .colab-df-convert {\n",
              "      background-color: #3B4455;\n",
              "      fill: #D2E3FC;\n",
              "    }\n",
              "\n",
              "    [theme=dark] .colab-df-convert:hover {\n",
              "      background-color: #434B5C;\n",
              "      box-shadow: 0px 1px 3px 1px rgba(0, 0, 0, 0.15);\n",
              "      filter: drop-shadow(0px 1px 2px rgba(0, 0, 0, 0.3));\n",
              "      fill: #FFFFFF;\n",
              "    }\n",
              "  </style>\n",
              "\n",
              "      <script>\n",
              "        const buttonEl =\n",
              "          document.querySelector('#df-2d3f6bec-53b2-41c3-883b-725fb5ff5338 button.colab-df-convert');\n",
              "        buttonEl.style.display =\n",
              "          google.colab.kernel.accessAllowed ? 'block' : 'none';\n",
              "\n",
              "        async function convertToInteractive(key) {\n",
              "          const element = document.querySelector('#df-2d3f6bec-53b2-41c3-883b-725fb5ff5338');\n",
              "          const dataTable =\n",
              "            await google.colab.kernel.invokeFunction('convertToInteractive',\n",
              "                                                     [key], {});\n",
              "          if (!dataTable) return;\n",
              "\n",
              "          const docLinkHtml = 'Like what you see? Visit the ' +\n",
              "            '<a target=\"_blank\" href=https://colab.research.google.com/notebooks/data_table.ipynb>data table notebook</a>'\n",
              "            + ' to learn more about interactive tables.';\n",
              "          element.innerHTML = '';\n",
              "          dataTable['output_type'] = 'display_data';\n",
              "          await google.colab.output.renderOutput(dataTable, element);\n",
              "          const docLink = document.createElement('div');\n",
              "          docLink.innerHTML = docLinkHtml;\n",
              "          element.appendChild(docLink);\n",
              "        }\n",
              "      </script>\n",
              "    </div>\n",
              "  </div>\n",
              "  "
            ]
          },
          "metadata": {},
          "execution_count": 31
        }
      ]
    },
    {
      "cell_type": "code",
      "source": [
        "data['Gender'].unique()"
      ],
      "metadata": {
        "colab": {
          "base_uri": "https://localhost:8080/"
        },
        "id": "7wZOhOvGO09D",
        "outputId": "80efacea-23c0-49fc-c24c-0850ca6cbd4e"
      },
      "execution_count": 32,
      "outputs": [
        {
          "output_type": "execute_result",
          "data": {
            "text/plain": [
              "array(['Male', 'Female'], dtype=object)"
            ]
          },
          "metadata": {},
          "execution_count": 32
        }
      ]
    },
    {
      "cell_type": "code",
      "source": [
        "#Check for Missing values and deal with them.\n",
        "data.isna().any().sum()"
      ],
      "metadata": {
        "colab": {
          "base_uri": "https://localhost:8080/"
        },
        "id": "9XpfPmZrO6wT",
        "outputId": "09f48191-5394-44ae-d7bb-b0bd169b6fb6"
      },
      "execution_count": 33,
      "outputs": [
        {
          "output_type": "execute_result",
          "data": {
            "text/plain": [
              "0"
            ]
          },
          "metadata": {},
          "execution_count": 33
        }
      ]
    },
    {
      "cell_type": "code",
      "source": [
        "# checking missing values we use isnull() function\n",
        "data.isnull().any()"
      ],
      "metadata": {
        "colab": {
          "base_uri": "https://localhost:8080/"
        },
        "id": "3ceUYdsXO-Ky",
        "outputId": "952e8764-7712-4706-a014-4654631bf840"
      },
      "execution_count": 34,
      "outputs": [
        {
          "output_type": "execute_result",
          "data": {
            "text/plain": [
              "CustomerID                False\n",
              "Gender                    False\n",
              "Age                       False\n",
              "Annual Income (k$)        False\n",
              "Spending Score (1-100)    False\n",
              "dtype: bool"
            ]
          },
          "metadata": {},
          "execution_count": 34
        }
      ]
    },
    {
      "cell_type": "code",
      "source": [
        "#check sum of all null values\n",
        "data.isnull().sum()"
      ],
      "metadata": {
        "colab": {
          "base_uri": "https://localhost:8080/"
        },
        "id": "skJWR9YKO_iz",
        "outputId": "3d6b3a99-919a-4678-ccb0-7f28bd14e366"
      },
      "execution_count": 35,
      "outputs": [
        {
          "output_type": "execute_result",
          "data": {
            "text/plain": [
              "CustomerID                0\n",
              "Gender                    0\n",
              "Age                       0\n",
              "Annual Income (k$)        0\n",
              "Spending Score (1-100)    0\n",
              "dtype: int64"
            ]
          },
          "metadata": {},
          "execution_count": 35
        }
      ]
    },
    {
      "cell_type": "code",
      "source": [
        "#Find the outliers and replace them outliers\n",
        "qnt=data.quantile(q=(0.09,1.00))\n",
        "qnt"
      ],
      "metadata": {
        "colab": {
          "base_uri": "https://localhost:8080/",
          "height": 112
        },
        "id": "Gt2habOOPD80",
        "outputId": "e91e3825-d7ea-4c65-e4da-751224ac4ecf"
      },
      "execution_count": 36,
      "outputs": [
        {
          "output_type": "execute_result",
          "data": {
            "text/plain": [
              "      CustomerID   Age  Annual Income (k$)  Spending Score (1-100)\n",
              "0.09       18.91  21.0               22.82                   12.91\n",
              "1.00      200.00  70.0              137.00                   99.00"
            ],
            "text/html": [
              "\n",
              "  <div id=\"df-d8fa7bff-9d96-43c0-8ea9-3734f5b3d9ea\">\n",
              "    <div class=\"colab-df-container\">\n",
              "      <div>\n",
              "<style scoped>\n",
              "    .dataframe tbody tr th:only-of-type {\n",
              "        vertical-align: middle;\n",
              "    }\n",
              "\n",
              "    .dataframe tbody tr th {\n",
              "        vertical-align: top;\n",
              "    }\n",
              "\n",
              "    .dataframe thead th {\n",
              "        text-align: right;\n",
              "    }\n",
              "</style>\n",
              "<table border=\"1\" class=\"dataframe\">\n",
              "  <thead>\n",
              "    <tr style=\"text-align: right;\">\n",
              "      <th></th>\n",
              "      <th>CustomerID</th>\n",
              "      <th>Age</th>\n",
              "      <th>Annual Income (k$)</th>\n",
              "      <th>Spending Score (1-100)</th>\n",
              "    </tr>\n",
              "  </thead>\n",
              "  <tbody>\n",
              "    <tr>\n",
              "      <th>0.09</th>\n",
              "      <td>18.91</td>\n",
              "      <td>21.0</td>\n",
              "      <td>22.82</td>\n",
              "      <td>12.91</td>\n",
              "    </tr>\n",
              "    <tr>\n",
              "      <th>1.00</th>\n",
              "      <td>200.00</td>\n",
              "      <td>70.0</td>\n",
              "      <td>137.00</td>\n",
              "      <td>99.00</td>\n",
              "    </tr>\n",
              "  </tbody>\n",
              "</table>\n",
              "</div>\n",
              "      <button class=\"colab-df-convert\" onclick=\"convertToInteractive('df-d8fa7bff-9d96-43c0-8ea9-3734f5b3d9ea')\"\n",
              "              title=\"Convert this dataframe to an interactive table.\"\n",
              "              style=\"display:none;\">\n",
              "        \n",
              "  <svg xmlns=\"http://www.w3.org/2000/svg\" height=\"24px\"viewBox=\"0 0 24 24\"\n",
              "       width=\"24px\">\n",
              "    <path d=\"M0 0h24v24H0V0z\" fill=\"none\"/>\n",
              "    <path d=\"M18.56 5.44l.94 2.06.94-2.06 2.06-.94-2.06-.94-.94-2.06-.94 2.06-2.06.94zm-11 1L8.5 8.5l.94-2.06 2.06-.94-2.06-.94L8.5 2.5l-.94 2.06-2.06.94zm10 10l.94 2.06.94-2.06 2.06-.94-2.06-.94-.94-2.06-.94 2.06-2.06.94z\"/><path d=\"M17.41 7.96l-1.37-1.37c-.4-.4-.92-.59-1.43-.59-.52 0-1.04.2-1.43.59L10.3 9.45l-7.72 7.72c-.78.78-.78 2.05 0 2.83L4 21.41c.39.39.9.59 1.41.59.51 0 1.02-.2 1.41-.59l7.78-7.78 2.81-2.81c.8-.78.8-2.07 0-2.86zM5.41 20L4 18.59l7.72-7.72 1.47 1.35L5.41 20z\"/>\n",
              "  </svg>\n",
              "      </button>\n",
              "      \n",
              "  <style>\n",
              "    .colab-df-container {\n",
              "      display:flex;\n",
              "      flex-wrap:wrap;\n",
              "      gap: 12px;\n",
              "    }\n",
              "\n",
              "    .colab-df-convert {\n",
              "      background-color: #E8F0FE;\n",
              "      border: none;\n",
              "      border-radius: 50%;\n",
              "      cursor: pointer;\n",
              "      display: none;\n",
              "      fill: #1967D2;\n",
              "      height: 32px;\n",
              "      padding: 0 0 0 0;\n",
              "      width: 32px;\n",
              "    }\n",
              "\n",
              "    .colab-df-convert:hover {\n",
              "      background-color: #E2EBFA;\n",
              "      box-shadow: 0px 1px 2px rgba(60, 64, 67, 0.3), 0px 1px 3px 1px rgba(60, 64, 67, 0.15);\n",
              "      fill: #174EA6;\n",
              "    }\n",
              "\n",
              "    [theme=dark] .colab-df-convert {\n",
              "      background-color: #3B4455;\n",
              "      fill: #D2E3FC;\n",
              "    }\n",
              "\n",
              "    [theme=dark] .colab-df-convert:hover {\n",
              "      background-color: #434B5C;\n",
              "      box-shadow: 0px 1px 3px 1px rgba(0, 0, 0, 0.15);\n",
              "      filter: drop-shadow(0px 1px 2px rgba(0, 0, 0, 0.3));\n",
              "      fill: #FFFFFF;\n",
              "    }\n",
              "  </style>\n",
              "\n",
              "      <script>\n",
              "        const buttonEl =\n",
              "          document.querySelector('#df-d8fa7bff-9d96-43c0-8ea9-3734f5b3d9ea button.colab-df-convert');\n",
              "        buttonEl.style.display =\n",
              "          google.colab.kernel.accessAllowed ? 'block' : 'none';\n",
              "\n",
              "        async function convertToInteractive(key) {\n",
              "          const element = document.querySelector('#df-d8fa7bff-9d96-43c0-8ea9-3734f5b3d9ea');\n",
              "          const dataTable =\n",
              "            await google.colab.kernel.invokeFunction('convertToInteractive',\n",
              "                                                     [key], {});\n",
              "          if (!dataTable) return;\n",
              "\n",
              "          const docLinkHtml = 'Like what you see? Visit the ' +\n",
              "            '<a target=\"_blank\" href=https://colab.research.google.com/notebooks/data_table.ipynb>data table notebook</a>'\n",
              "            + ' to learn more about interactive tables.';\n",
              "          element.innerHTML = '';\n",
              "          dataTable['output_type'] = 'display_data';\n",
              "          await google.colab.output.renderOutput(dataTable, element);\n",
              "          const docLink = document.createElement('div');\n",
              "          docLink.innerHTML = docLinkHtml;\n",
              "          element.appendChild(docLink);\n",
              "        }\n",
              "      </script>\n",
              "    </div>\n",
              "  </div>\n",
              "  "
            ]
          },
          "metadata": {},
          "execution_count": 36
        }
      ]
    },
    {
      "cell_type": "code",
      "source": [
        "Q1 = data.Age.quantile(0.25)\n",
        "Q3 = data.Age.quantile(0.175)\n",
        "IQR = Q3 - Q1\n",
        "lower_limit = Q1 - 1.5 * IQR\n",
        "data.median(numeric_only=True)"
      ],
      "metadata": {
        "colab": {
          "base_uri": "https://localhost:8080/"
        },
        "id": "tJ5iVQD0PZDD",
        "outputId": "0928e4c4-5255-4feb-8f43-cf167ce1f144"
      },
      "execution_count": 37,
      "outputs": [
        {
          "output_type": "execute_result",
          "data": {
            "text/plain": [
              "CustomerID                100.5\n",
              "Age                        36.0\n",
              "Annual Income (k$)         61.5\n",
              "Spending Score (1-100)     50.0\n",
              "dtype: float64"
            ]
          },
          "metadata": {},
          "execution_count": 37
        }
      ]
    },
    {
      "cell_type": "code",
      "source": [
        "sns.boxplot(x=data.Age)"
      ],
      "metadata": {
        "colab": {
          "base_uri": "https://localhost:8080/",
          "height": 306
        },
        "id": "rkslBxeWPcVr",
        "outputId": "e6c59e6a-213a-4c1d-df38-a271e3fc8519"
      },
      "execution_count": 38,
      "outputs": [
        {
          "output_type": "execute_result",
          "data": {
            "text/plain": [
              "<matplotlib.axes._subplots.AxesSubplot at 0x7fa672254c50>"
            ]
          },
          "metadata": {},
          "execution_count": 38
        },
        {
          "output_type": "display_data",
          "data": {
            "text/plain": [
              "<Figure size 432x288 with 1 Axes>"
            ],
            "image/png": "[encoded data removed]"
          },
          "metadata": {}
        }
      ]
    },
    {
      "cell_type": "code",
      "source": [
        "data['Age'] = np.where(data['Age'] < lower_limit, 7, data['Age'])\n",
        "sns.boxplot(x=data.Age,showfliers = False)"
      ],
      "metadata": {
        "colab": {
          "base_uri": "https://localhost:8080/",
          "height": 306
        },
        "id": "YTiDvpixPmwa",
        "outputId": "959e8a72-54e3-433c-ec84-2c3ff70ca6de"
      },
      "execution_count": 39,
      "outputs": [
        {
          "output_type": "execute_result",
          "data": {
            "text/plain": [
              "<matplotlib.axes._subplots.AxesSubplot at 0x7fa672233890>"
            ]
          },
          "metadata": {},
          "execution_count": 39
        },
        {
          "output_type": "display_data",
          "data": {
            "text/plain": [
              "<Figure size 432x288 with 1 Axes>"
            ],
            "image/png": "[encoded data removed]"
          },
          "metadata": {}
        }
      ]
    },
    {
      "cell_type": "code",
      "source": [
        "#Check for Categorical columns and perform encoding.\n",
        "data.head(2)"
      ],
      "metadata": {
        "colab": {
          "base_uri": "https://localhost:8080/",
          "height": 112
        },
        "id": "59MxFXJRPqrr",
        "outputId": "a6c90046-5cd5-4e79-bb2f-b12e42536f38"
      },
      "execution_count": 40,
      "outputs": [
        {
          "output_type": "execute_result",
          "data": {
            "text/plain": [
              "   CustomerID Gender  Age  Annual Income (k$)  Spending Score (1-100)\n",
              "0           1   Male    7                  15                      39\n",
              "1           2   Male    7                  15                      81"
            ],
            "text/html": [
              "\n",
              "  <div id=\"df-64be28eb-e8b5-4b2d-9713-9b480b752264\">\n",
              "    <div class=\"colab-df-container\">\n",
              "      <div>\n",
              "<style scoped>\n",
              "    .dataframe tbody tr th:only-of-type {\n",
              "        vertical-align: middle;\n",
              "    }\n",
              "\n",
              "    .dataframe tbody tr th {\n",
              "        vertical-align: top;\n",
              "    }\n",
              "\n",
              "    .dataframe thead th {\n",
              "        text-align: right;\n",
              "    }\n",
              "</style>\n",
              "<table border=\"1\" class=\"dataframe\">\n",
              "  <thead>\n",
              "    <tr style=\"text-align: right;\">\n",
              "      <th></th>\n",
              "      <th>CustomerID</th>\n",
              "      <th>Gender</th>\n",
              "      <th>Age</th>\n",
              "      <th>Annual Income (k$)</th>\n",
              "      <th>Spending Score (1-100)</th>\n",
              "    </tr>\n",
              "  </thead>\n",
              "  <tbody>\n",
              "    <tr>\n",
              "      <th>0</th>\n",
              "      <td>1</td>\n",
              "      <td>Male</td>\n",
              "      <td>7</td>\n",
              "      <td>15</td>\n",
              "      <td>39</td>\n",
              "    </tr>\n",
              "    <tr>\n",
              "      <th>1</th>\n",
              "      <td>2</td>\n",
              "      <td>Male</td>\n",
              "      <td>7</td>\n",
              "      <td>15</td>\n",
              "      <td>81</td>\n",
              "    </tr>\n",
              "  </tbody>\n",
              "</table>\n",
              "</div>\n",
              "      <button class=\"colab-df-convert\" onclick=\"convertToInteractive('df-64be28eb-e8b5-4b2d-9713-9b480b752264')\"\n",
              "              title=\"Convert this dataframe to an interactive table.\"\n",
              "              style=\"display:none;\">\n",
              "        \n",
              "  <svg xmlns=\"http://www.w3.org/2000/svg\" height=\"24px\"viewBox=\"0 0 24 24\"\n",
              "       width=\"24px\">\n",
              "    <path d=\"M0 0h24v24H0V0z\" fill=\"none\"/>\n",
              "    <path d=\"M18.56 5.44l.94 2.06.94-2.06 2.06-.94-2.06-.94-.94-2.06-.94 2.06-2.06.94zm-11 1L8.5 8.5l.94-2.06 2.06-.94-2.06-.94L8.5 2.5l-.94 2.06-2.06.94zm10 10l.94 2.06.94-2.06 2.06-.94-2.06-.94-.94-2.06-.94 2.06-2.06.94z\"/><path d=\"M17.41 7.96l-1.37-1.37c-.4-.4-.92-.59-1.43-.59-.52 0-1.04.2-1.43.59L10.3 9.45l-7.72 7.72c-.78.78-.78 2.05 0 2.83L4 21.41c.39.39.9.59 1.41.59.51 0 1.02-.2 1.41-.59l7.78-7.78 2.81-2.81c.8-.78.8-2.07 0-2.86zM5.41 20L4 18.59l7.72-7.72 1.47 1.35L5.41 20z\"/>\n",
              "  </svg>\n",
              "      </button>\n",
              "      \n",
              "  <style>\n",
              "    .colab-df-container {\n",
              "      display:flex;\n",
              "      flex-wrap:wrap;\n",
              "      gap: 12px;\n",
              "    }\n",
              "\n",
              "    .colab-df-convert {\n",
              "      background-color: #E8F0FE;\n",
              "      border: none;\n",
              "      border-radius: 50%;\n",
              "      cursor: pointer;\n",
              "      display: none;\n",
              "      fill: #1967D2;\n",
              "      height: 32px;\n",
              "      padding: 0 0 0 0;\n",
              "      width: 32px;\n",
              "    }\n",
              "\n",
              "    .colab-df-convert:hover {\n",
              "      background-color: #E2EBFA;\n",
              "      box-shadow: 0px 1px 2px rgba(60, 64, 67, 0.3), 0px 1px 3px 1px rgba(60, 64, 67, 0.15);\n",
              "      fill: #174EA6;\n",
              "    }\n",
              "\n",
              "    [theme=dark] .colab-df-convert {\n",
              "      background-color: #3B4455;\n",
              "      fill: #D2E3FC;\n",
              "    }\n",
              "\n",
              "    [theme=dark] .colab-df-convert:hover {\n",
              "      background-color: #434B5C;\n",
              "      box-shadow: 0px 1px 3px 1px rgba(0, 0, 0, 0.15);\n",
              "      filter: drop-shadow(0px 1px 2px rgba(0, 0, 0, 0.3));\n",
              "      fill: #FFFFFF;\n",
              "    }\n",
              "  </style>\n",
              "\n",
              "      <script>\n",
              "        const buttonEl =\n",
              "          document.querySelector('#df-64be28eb-e8b5-4b2d-9713-9b480b752264 button.colab-df-convert');\n",
              "        buttonEl.style.display =\n",
              "          google.colab.kernel.accessAllowed ? 'block' : 'none';\n",
              "\n",
              "        async function convertToInteractive(key) {\n",
              "          const element = document.querySelector('#df-64be28eb-e8b5-4b2d-9713-9b480b752264');\n",
              "          const dataTable =\n",
              "            await google.colab.kernel.invokeFunction('convertToInteractive',\n",
              "                                                     [key], {});\n",
              "          if (!dataTable) return;\n",
              "\n",
              "          const docLinkHtml = 'Like what you see? Visit the ' +\n",
              "            '<a target=\"_blank\" href=https://colab.research.google.com/notebooks/data_table.ipynb>data table notebook</a>'\n",
              "            + ' to learn more about interactive tables.';\n",
              "          element.innerHTML = '';\n",
              "          dataTable['output_type'] = 'display_data';\n",
              "          await google.colab.output.renderOutput(dataTable, element);\n",
              "          const docLink = document.createElement('div');\n",
              "          docLink.innerHTML = docLinkHtml;\n",
              "          element.appendChild(docLink);\n",
              "        }\n",
              "      </script>\n",
              "    </div>\n",
              "  </div>\n",
              "  "
            ]
          },
          "metadata": {},
          "execution_count": 40
        }
      ]
    },
    {
      "cell_type": "code",
      "source": [
        "data['Gender'].replace({'Male':1,'Female':0},inplace=True)"
      ],
      "metadata": {
        "id": "eOE6pGlBPt_S"
      },
      "execution_count": 41,
      "outputs": []
    },
    {
      "cell_type": "code",
      "source": [
        "data.head()"
      ],
      "metadata": {
        "colab": {
          "base_uri": "https://localhost:8080/",
          "height": 206
        },
        "id": "NGgzZMj4Px2D",
        "outputId": "79c3115e-73d7-4222-9f79-48c5b700a22d"
      },
      "execution_count": 42,
      "outputs": [
        {
          "output_type": "execute_result",
          "data": {
            "text/plain": [
              "   CustomerID  Gender  Age  Annual Income (k$)  Spending Score (1-100)\n",
              "0           1       1    7                  15                      39\n",
              "1           2       1    7                  15                      81\n",
              "2           3       0    7                  16                       6\n",
              "3           4       0    7                  16                      77\n",
              "4           5       0    7                  17                      40"
            ],
            "text/html": [
              "\n",
              "  <div id=\"df-7e4ac59f-4117-4e25-985d-61501999ff51\">\n",
              "    <div class=\"colab-df-container\">\n",
              "      <div>\n",
              "<style scoped>\n",
              "    .dataframe tbody tr th:only-of-type {\n",
              "        vertical-align: middle;\n",
              "    }\n",
              "\n",
              "    .dataframe tbody tr th {\n",
              "        vertical-align: top;\n",
              "    }\n",
              "\n",
              "    .dataframe thead th {\n",
              "        text-align: right;\n",
              "    }\n",
              "</style>\n",
              "<table border=\"1\" class=\"dataframe\">\n",
              "  <thead>\n",
              "    <tr style=\"text-align: right;\">\n",
              "      <th></th>\n",
              "      <th>CustomerID</th>\n",
              "      <th>Gender</th>\n",
              "      <th>Age</th>\n",
              "      <th>Annual Income (k$)</th>\n",
              "      <th>Spending Score (1-100)</th>\n",
              "    </tr>\n",
              "  </thead>\n",
              "  <tbody>\n",
              "    <tr>\n",
              "      <th>0</th>\n",
              "      <td>1</td>\n",
              "      <td>1</td>\n",
              "      <td>7</td>\n",
              "      <td>15</td>\n",
              "      <td>39</td>\n",
              "    </tr>\n",
              "    <tr>\n",
              "      <th>1</th>\n",
              "      <td>2</td>\n",
              "      <td>1</td>\n",
              "      <td>7</td>\n",
              "      <td>15</td>\n",
              "      <td>81</td>\n",
              "    </tr>\n",
              "    <tr>\n",
              "      <th>2</th>\n",
              "      <td>3</td>\n",
              "      <td>0</td>\n",
              "      <td>7</td>\n",
              "      <td>16</td>\n",
              "      <td>6</td>\n",
              "    </tr>\n",
              "    <tr>\n",
              "      <th>3</th>\n",
              "      <td>4</td>\n",
              "      <td>0</td>\n",
              "      <td>7</td>\n",
              "      <td>16</td>\n",
              "      <td>77</td>\n",
              "    </tr>\n",
              "    <tr>\n",
              "      <th>4</th>\n",
              "      <td>5</td>\n",
              "      <td>0</td>\n",
              "      <td>7</td>\n",
              "      <td>17</td>\n",
              "      <td>40</td>\n",
              "    </tr>\n",
              "  </tbody>\n",
              "</table>\n",
              "</div>\n",
              "      <button class=\"colab-df-convert\" onclick=\"convertToInteractive('df-7e4ac59f-4117-4e25-985d-61501999ff51')\"\n",
              "              title=\"Convert this dataframe to an interactive table.\"\n",
              "              style=\"display:none;\">\n",
              "        \n",
              "  <svg xmlns=\"http://www.w3.org/2000/svg\" height=\"24px\"viewBox=\"0 0 24 24\"\n",
              "       width=\"24px\">\n",
              "    <path d=\"M0 0h24v24H0V0z\" fill=\"none\"/>\n",
              "    <path d=\"M18.56 5.44l.94 2.06.94-2.06 2.06-.94-2.06-.94-.94-2.06-.94 2.06-2.06.94zm-11 1L8.5 8.5l.94-2.06 2.06-.94-2.06-.94L8.5 2.5l-.94 2.06-2.06.94zm10 10l.94 2.06.94-2.06 2.06-.94-2.06-.94-.94-2.06-.94 2.06-2.06.94z\"/><path d=\"M17.41 7.96l-1.37-1.37c-.4-.4-.92-.59-1.43-.59-.52 0-1.04.2-1.43.59L10.3 9.45l-7.72 7.72c-.78.78-.78 2.05 0 2.83L4 21.41c.39.39.9.59 1.41.59.51 0 1.02-.2 1.41-.59l7.78-7.78 2.81-2.81c.8-.78.8-2.07 0-2.86zM5.41 20L4 18.59l7.72-7.72 1.47 1.35L5.41 20z\"/>\n",
              "  </svg>\n",
              "      </button>\n",
              "      \n",
              "  <style>\n",
              "    .colab-df-container {\n",
              "      display:flex;\n",
              "      flex-wrap:wrap;\n",
              "      gap: 12px;\n",
              "    }\n",
              "\n",
              "    .colab-df-convert {\n",
              "      background-color: #E8F0FE;\n",
              "      border: none;\n",
              "      border-radius: 50%;\n",
              "      cursor: pointer;\n",
              "      display: none;\n",
              "      fill: #1967D2;\n",
              "      height: 32px;\n",
              "      padding: 0 0 0 0;\n",
              "      width: 32px;\n",
              "    }\n",
              "\n",
              "    .colab-df-convert:hover {\n",
              "      background-color: #E2EBFA;\n",
              "      box-shadow: 0px 1px 2px rgba(60, 64, 67, 0.3), 0px 1px 3px 1px rgba(60, 64, 67, 0.15);\n",
              "      fill: #174EA6;\n",
              "    }\n",
              "\n",
              "    [theme=dark] .colab-df-convert {\n",
              "      background-color: #3B4455;\n",
              "      fill: #D2E3FC;\n",
              "    }\n",
              "\n",
              "    [theme=dark] .colab-df-convert:hover {\n",
              "      background-color: #434B5C;\n",
              "      box-shadow: 0px 1px 3px 1px rgba(0, 0, 0, 0.15);\n",
              "      filter: drop-shadow(0px 1px 2px rgba(0, 0, 0, 0.3));\n",
              "      fill: #FFFFFF;\n",
              "    }\n",
              "  </style>\n",
              "\n",
              "      <script>\n",
              "        const buttonEl =\n",
              "          document.querySelector('#df-7e4ac59f-4117-4e25-985d-61501999ff51 button.colab-df-convert');\n",
              "        buttonEl.style.display =\n",
              "          google.colab.kernel.accessAllowed ? 'block' : 'none';\n",
              "\n",
              "        async function convertToInteractive(key) {\n",
              "          const element = document.querySelector('#df-7e4ac59f-4117-4e25-985d-61501999ff51');\n",
              "          const dataTable =\n",
              "            await google.colab.kernel.invokeFunction('convertToInteractive',\n",
              "                                                     [key], {});\n",
              "          if (!dataTable) return;\n",
              "\n",
              "          const docLinkHtml = 'Like what you see? Visit the ' +\n",
              "            '<a target=\"_blank\" href=https://colab.research.google.com/notebooks/data_table.ipynb>data table notebook</a>'\n",
              "            + ' to learn more about interactive tables.';\n",
              "          element.innerHTML = '';\n",
              "          dataTable['output_type'] = 'display_data';\n",
              "          await google.colab.output.renderOutput(dataTable, element);\n",
              "          const docLink = document.createElement('div');\n",
              "          docLink.innerHTML = docLinkHtml;\n",
              "          element.appendChild(docLink);\n",
              "        }\n",
              "      </script>\n",
              "    </div>\n",
              "  </div>\n",
              "  "
            ]
          },
          "metadata": {},
          "execution_count": 42
        }
      ]
    },
    {
      "cell_type": "code",
      "source": [
        "#Scaling the data\n",
        "x=data\n",
        "names=x.columns\n",
        "names"
      ],
      "metadata": {
        "colab": {
          "base_uri": "https://localhost:8080/"
        },
        "id": "qrRkpJYyP1h6",
        "outputId": "6bf1fd1b-a9fc-4e42-b1d9-6d82391d8aa7"
      },
      "execution_count": 43,
      "outputs": [
        {
          "output_type": "execute_result",
          "data": {
            "text/plain": [
              "Index(['CustomerID', 'Gender', 'Age', 'Annual Income (k$)',\n",
              "       'Spending Score (1-100)'],\n",
              "      dtype='object')"
            ]
          },
          "metadata": {},
          "execution_count": 43
        }
      ]
    },
    {
      "cell_type": "code",
      "source": [
        "from sklearn.preprocessing import scale"
      ],
      "metadata": {
        "id": "ApKZJdYCP4ZK"
      },
      "execution_count": 44,
      "outputs": []
    },
    {
      "cell_type": "code",
      "source": [
        "x=scale(x)  \n",
        "x"
      ],
      "metadata": {
        "colab": {
          "base_uri": "https://localhost:8080/"
        },
        "id": "cIHGP8pJP7Va",
        "outputId": "5d0c3fa5-6da2-4dbc-9443-8ed824ed00cb"
      },
      "execution_count": 45,
      "outputs": [
        {
          "output_type": "execute_result",
          "data": {
            "text/plain": [
              "array([[-1.7234121 ,  1.12815215, -1.04704552, -1.73899919, -0.43480148],\n",
              "       [-1.70609137,  1.12815215, -1.04704552, -1.73899919,  1.19570407],\n",
              "       [-1.68877065, -0.88640526, -1.04704552, -1.70082976, -1.71591298],\n",
              "       [-1.67144992, -0.88640526, -1.04704552, -1.70082976,  1.04041783],\n",
              "       [-1.6541292 , -0.88640526, -1.04704552, -1.66266033, -0.39597992],\n",
              "       [-1.63680847, -0.88640526, -1.04704552, -1.66266033,  1.00159627],\n",
              "       [-1.61948775, -0.88640526,  0.21690251, -1.62449091, -1.71591298],\n",
              "       [-1.60216702, -0.88640526, -1.04704552, -1.62449091,  1.70038436],\n",
              "       [-1.5848463 ,  1.12815215,  1.52599154, -1.58632148, -1.83237767],\n",
              "       [-1.56752558, -0.88640526, -1.04704552, -1.58632148,  0.84631002],\n",
              "       [-1.55020485,  1.12815215,  1.66141454, -1.58632148, -1.4053405 ],\n",
              "       [-1.53288413, -0.88640526,  0.21690251, -1.58632148,  1.89449216],\n",
              "       [-1.5155634 , -0.88640526,  1.25514553, -1.54815205, -1.36651894],\n",
              "       [-1.49824268, -0.88640526, -1.04704552, -1.54815205,  1.04041783],\n",
              "       [-1.48092195,  1.12815215,  0.30718451, -1.54815205, -1.44416206],\n",
              "       [-1.46360123,  1.12815215, -1.04704552, -1.54815205,  1.11806095],\n",
              "       [-1.4462805 , -0.88640526,  0.21690251, -1.50998262, -0.59008772],\n",
              "       [-1.42895978,  1.12815215, -1.04704552, -1.50998262,  0.61338066],\n",
              "       [-1.41163905,  1.12815215,  0.98429952, -1.43364376, -0.82301709],\n",
              "       [-1.39431833, -0.88640526,  0.21690251, -1.43364376,  1.8556706 ],\n",
              "       [-1.3769976 ,  1.12815215,  0.21690251, -1.39547433, -0.59008772],\n",
              "       [-1.35967688,  1.12815215, -1.04704552, -1.39547433,  0.88513158],\n",
              "       [-1.34235616, -0.88640526,  0.71345352, -1.3573049 , -1.75473454],\n",
              "       [-1.32503543,  1.12815215, -1.04704552, -1.3573049 ,  0.88513158],\n",
              "       [-1.30771471, -0.88640526,  1.07458153, -1.24279661, -1.4053405 ],\n",
              "       [-1.29039398,  1.12815215, -1.04704552, -1.24279661,  1.23452563],\n",
              "       [-1.27307326, -0.88640526,  0.66831252, -1.24279661, -0.7065524 ],\n",
              "       [-1.25575253,  1.12815215,  0.21690251, -1.24279661,  0.41927286],\n",
              "       [-1.23843181, -0.88640526,  0.44260751, -1.20462718, -0.74537397],\n",
              "       [-1.22111108, -0.88640526, -1.04704552, -1.20462718,  1.42863343],\n",
              "       [-1.20379036,  1.12815215,  1.34542753, -1.16645776, -1.7935561 ],\n",
              "       [-1.18646963, -0.88640526, -1.04704552, -1.16645776,  0.88513158],\n",
              "       [-1.16914891,  1.12815215,  1.02944053, -1.05194947, -1.7935561 ],\n",
              "       [-1.15182818,  1.12815215, -1.04704552, -1.05194947,  1.62274124],\n",
              "       [-1.13450746, -0.88640526,  0.84887652, -1.05194947, -1.4053405 ],\n",
              "       [-1.11718674, -0.88640526, -1.04704552, -1.05194947,  1.19570407],\n",
              "       [-1.09986601, -0.88640526,  0.53288952, -1.01378004, -1.28887582],\n",
              "       [-1.08254529, -0.88640526, -1.04704552, -1.01378004,  0.88513158],\n",
              "       [-1.06522456, -0.88640526,  0.26204351, -0.89927175, -0.93948177],\n",
              "       [-1.04790384, -0.88640526, -1.04704552, -0.89927175,  0.96277471],\n",
              "       [-1.03058311, -0.88640526,  1.57113254, -0.86110232, -0.59008772],\n",
              "       [-1.01326239,  1.12815215, -1.04704552, -0.86110232,  1.62274124],\n",
              "       [-0.99594166,  1.12815215,  0.80373552, -0.82293289, -0.55126616],\n",
              "       [-0.97862094, -0.88640526, -1.04704552, -0.82293289,  0.41927286],\n",
              "       [-0.96130021, -0.88640526,  0.84887652, -0.82293289, -0.86183865],\n",
              "       [-0.94397949, -0.88640526, -1.04704552, -0.82293289,  0.5745591 ],\n",
              "       [-0.92665877, -0.88640526,  0.89401752, -0.78476346,  0.18634349],\n",
              "       [-0.90933804, -0.88640526, -1.04704552, -0.78476346, -0.12422899],\n",
              "       [-0.89201732, -0.88640526, -1.04704552, -0.78476346, -0.3183368 ],\n",
              "       [-0.87469659, -0.88640526, -1.04704552, -0.78476346, -0.3183368 ],\n",
              "       [-0.85737587, -0.88640526,  0.84887652, -0.70842461,  0.06987881],\n",
              "       [-0.84005514,  1.12815215, -1.04704552, -0.70842461,  0.38045129],\n",
              "       [-0.82273442, -0.88640526, -1.04704552, -0.67025518,  0.14752193],\n",
              "       [-0.80541369,  1.12815215,  1.30028653, -0.67025518,  0.38045129],\n",
              "       [-0.78809297, -0.88640526,  0.89401752, -0.67025518, -0.20187212],\n",
              "       [-0.77077224,  1.12815215,  0.75859452, -0.67025518, -0.35715836],\n",
              "       [-0.75345152, -0.88640526,  0.93915852, -0.63208575, -0.00776431],\n",
              "       [-0.73613079,  1.12815215,  1.75169654, -0.63208575, -0.16305055],\n",
              "       [-0.71881007, -0.88640526, -1.04704552, -0.55574689,  0.03105725],\n",
              "       [-0.70148935,  1.12815215,  1.02944053, -0.55574689, -0.16305055],\n",
              "       [-0.68416862,  1.12815215,  1.79683754, -0.55574689,  0.22516505],\n",
              "       [-0.6668479 ,  1.12815215, -1.04704552, -0.55574689,  0.18634349],\n",
              "       [-0.64952717, -0.88640526,  1.66141454, -0.51757746,  0.06987881],\n",
              "       [-0.63220645, -0.88640526,  1.07458153, -0.51757746,  0.34162973],\n",
              "       [-0.61488572,  1.12815215,  1.48085053, -0.47940803,  0.03105725],\n",
              "       [-0.597565  ,  1.12815215, -1.04704552, -0.47940803,  0.34162973],\n",
              "       [-0.58024427, -0.88640526,  0.57803052, -0.47940803, -0.00776431],\n",
              "       [-0.56292355, -0.88640526,  1.70655554, -0.47940803, -0.08540743],\n",
              "       [-0.54560282,  1.12815215, -1.04704552, -0.47940803,  0.34162973],\n",
              "       [-0.5282821 , -0.88640526, -1.04704552, -0.47940803, -0.12422899],\n",
              "       [-0.51096138,  1.12815215,  1.79683754, -0.4412386 ,  0.18634349],\n",
              "       [-0.49364065, -0.88640526,  0.75859452, -0.4412386 , -0.3183368 ],\n",
              "       [-0.47631993, -0.88640526,  1.34542753, -0.40306917, -0.04658587],\n",
              "       [-0.4589992 , -0.88640526,  1.34542753, -0.40306917,  0.22516505],\n",
              "       [-0.44167848,  1.12815215,  1.30028653, -0.25039146, -0.12422899],\n",
              "       [-0.42435775,  1.12815215, -1.04704552, -0.25039146,  0.14752193],\n",
              "       [-0.40703703, -0.88640526,  0.66831252, -0.25039146,  0.10870037],\n",
              "       [-0.3897163 ,  1.12815215,  0.44260751, -0.25039146, -0.08540743],\n",
              "       [-0.37239558, -0.88640526, -1.04704552, -0.25039146,  0.06987881],\n",
              "       [-0.35507485, -0.88640526,  0.84887652, -0.25039146, -0.3183368 ],\n",
              "       [-0.33775413,  1.12815215,  1.21000453, -0.25039146,  0.03105725],\n",
              "       [-0.3204334 ,  1.12815215,  0.35232551, -0.25039146,  0.18634349],\n",
              "       [-0.30311268,  1.12815215,  1.66141454, -0.25039146, -0.35715836],\n",
              "       [-0.28579196, -0.88640526,  0.71345352, -0.25039146, -0.24069368],\n",
              "       [-0.26847123, -0.88640526, -1.04704552, -0.25039146,  0.26398661],\n",
              "       [-0.25115051,  1.12815215,  0.80373552, -0.25039146, -0.16305055],\n",
              "       [-0.23382978, -0.88640526,  1.11972253, -0.13588317,  0.30280817],\n",
              "       [-0.21650906, -0.88640526, -1.04704552, -0.13588317,  0.18634349],\n",
              "       [-0.19918833, -0.88640526, -1.04704552, -0.09771374,  0.38045129],\n",
              "       [-0.18186761, -0.88640526,  0.89401752, -0.09771374, -0.16305055],\n",
              "       [-0.16454688, -0.88640526,  1.70655554, -0.05954431,  0.18634349],\n",
              "       [-0.14722616,  1.12815215, -1.04704552, -0.05954431, -0.35715836],\n",
              "       [-0.12990543,  1.12815215,  0.80373552, -0.02137488, -0.04658587],\n",
              "       [-0.11258471, -0.88640526,  0.44260751, -0.02137488, -0.39597992],\n",
              "       [-0.09526399, -0.88640526, -1.04704552, -0.02137488, -0.3183368 ],\n",
              "       [-0.07794326,  1.12815215, -1.04704552, -0.02137488,  0.06987881],\n",
              "       [-0.06062254, -0.88640526,  0.75859452, -0.02137488, -0.12422899],\n",
              "       [-0.04330181, -0.88640526, -1.04704552, -0.02137488, -0.00776431],\n",
              "       [-0.02598109,  1.12815215,  0.80373552,  0.01679455, -0.3183368 ],\n",
              "       [-0.00866036,  1.12815215, -1.04704552,  0.01679455, -0.04658587],\n",
              "       [ 0.00866036, -0.88640526, -1.04704552,  0.05496398, -0.35715836],\n",
              "       [ 0.02598109, -0.88640526,  0.84887652,  0.05496398, -0.08540743],\n",
              "       [ 0.04330181,  1.12815215,  1.66141454,  0.05496398,  0.34162973],\n",
              "       [ 0.06062254,  1.12815215, -1.04704552,  0.05496398,  0.18634349],\n",
              "       [ 0.07794326,  1.12815215,  0.84887652,  0.05496398,  0.22516505],\n",
              "       [ 0.09526399, -0.88640526, -1.04704552,  0.05496398, -0.3183368 ],\n",
              "       [ 0.11258471, -0.88640526,  1.61627354,  0.09313341, -0.00776431],\n",
              "       [ 0.12990543,  1.12815215,  1.07458153,  0.09313341, -0.16305055],\n",
              "       [ 0.14722616,  1.12815215,  1.70655554,  0.09313341, -0.27951524],\n",
              "       [ 0.16454688,  1.12815215,  1.61627354,  0.09313341, -0.08540743],\n",
              "       [ 0.18186761,  1.12815215,  1.57113254,  0.09313341,  0.06987881],\n",
              "       [ 0.19918833, -0.88640526, -1.04704552,  0.09313341,  0.14752193],\n",
              "       [ 0.21650906, -0.88640526,  0.35232551,  0.13130284, -0.3183368 ],\n",
              "       [ 0.23382978,  1.12815215, -1.04704552,  0.13130284, -0.16305055],\n",
              "       [ 0.25115051, -0.88640526, -1.04704552,  0.16947227, -0.08540743],\n",
              "       [ 0.26847123, -0.88640526, -1.04704552,  0.16947227, -0.00776431],\n",
              "       [ 0.28579196, -0.88640526,  1.48085053,  0.16947227, -0.27951524],\n",
              "       [ 0.30311268, -0.88640526,  0.84887652,  0.16947227,  0.34162973],\n",
              "       [ 0.3204334 , -0.88640526,  0.93915852,  0.24581112, -0.27951524],\n",
              "       [ 0.33775413, -0.88640526,  0.89401752,  0.24581112,  0.26398661],\n",
              "       [ 0.35507485,  1.12815215, -1.04704552,  0.24581112,  0.22516505],\n",
              "       [ 0.37239558, -0.88640526,  0.35232551,  0.24581112, -0.39597992],\n",
              "       [ 0.3897163 , -0.88640526,  0.44260751,  0.32214998,  0.30280817],\n",
              "       [ 0.40703703,  1.12815215,  0.39746651,  0.32214998,  1.58391968],\n",
              "       [ 0.42435775, -0.88640526, -1.04704552,  0.36031941, -0.82301709],\n",
              "       [ 0.44167848, -0.88640526, -1.04704552,  0.36031941,  1.04041783],\n",
              "       [ 0.4589992 ,  1.12815215,  0.57803052,  0.39848884, -0.59008772],\n",
              "       [ 0.47631993,  1.12815215,  0.44260751,  0.39848884,  1.73920592],\n",
              "       [ 0.49364065,  1.12815215,  1.30028653,  0.39848884, -1.52180518],\n",
              "       [ 0.51096138,  1.12815215,  0.35232551,  0.39848884,  0.96277471],\n",
              "       [ 0.5282821 ,  1.12815215,  0.75859452,  0.39848884, -1.5994483 ],\n",
              "       [ 0.54560282,  1.12815215,  0.39746651,  0.39848884,  0.96277471],\n",
              "       [ 0.56292355, -0.88640526, -1.04704552,  0.43665827, -0.62890928],\n",
              "       [ 0.58024427, -0.88640526, -1.04704552,  0.43665827,  0.80748846],\n",
              "       [ 0.597565  ,  1.12815215, -1.04704552,  0.4748277 , -1.75473454],\n",
              "       [ 0.61488572, -0.88640526, -1.04704552,  0.4748277 ,  1.46745499],\n",
              "       [ 0.63220645, -0.88640526,  0.62317152,  0.4748277 , -1.67709142],\n",
              "       [ 0.64952717,  1.12815215, -1.04704552,  0.4748277 ,  0.88513158],\n",
              "       [ 0.6668479 ,  1.12815215, -1.04704552,  0.51299713, -1.56062674],\n",
              "       [ 0.68416862, -0.88640526,  0.21690251,  0.51299713,  0.84631002],\n",
              "       [ 0.70148935, -0.88640526,  1.21000453,  0.55116656, -1.75473454],\n",
              "       [ 0.71881007,  1.12815215, -1.04704552,  0.55116656,  1.6615628 ],\n",
              "       [ 0.73613079, -0.88640526, -1.04704552,  0.58933599, -0.39597992],\n",
              "       [ 0.75345152, -0.88640526, -1.04704552,  0.58933599,  1.42863343],\n",
              "       [ 0.77077224,  1.12815215, -1.04704552,  0.62750542, -1.48298362],\n",
              "       [ 0.78809297,  1.12815215, -1.04704552,  0.62750542,  1.81684904],\n",
              "       [ 0.80541369,  1.12815215,  0.80373552,  0.62750542, -0.55126616],\n",
              "       [ 0.82273442, -0.88640526, -1.04704552,  0.62750542,  0.92395314],\n",
              "       [ 0.84005514, -0.88640526, -1.04704552,  0.66567484, -1.09476801],\n",
              "       [ 0.85737587,  1.12815215, -1.04704552,  0.66567484,  1.54509812],\n",
              "       [ 0.87469659,  1.12815215,  0.57803052,  0.66567484, -1.28887582],\n",
              "       [ 0.89201732,  1.12815215,  0.39746651,  0.66567484,  1.46745499],\n",
              "       [ 0.90933804, -0.88640526,  0.62317152,  0.66567484, -1.17241113],\n",
              "       [ 0.92665877, -0.88640526,  0.35232551,  0.66567484,  1.00159627],\n",
              "       [ 0.94397949, -0.88640526,  0.75859452,  0.66567484, -1.32769738],\n",
              "       [ 0.96130021, -0.88640526, -1.04704552,  0.66567484,  1.50627656],\n",
              "       [ 0.97862094,  1.12815215,  0.30718451,  0.66567484, -1.91002079],\n",
              "       [ 0.99594166, -0.88640526, -1.04704552,  0.66567484,  1.07923939],\n",
              "       [ 1.01326239,  1.12815215, -1.04704552,  0.66567484, -1.91002079],\n",
              "       [ 1.03058311, -0.88640526, -1.04704552,  0.66567484,  0.88513158],\n",
              "       [ 1.04790384, -0.88640526,  1.16486353,  0.70384427, -0.59008772],\n",
              "       [ 1.06522456, -0.88640526, -1.04704552,  0.70384427,  1.27334719],\n",
              "       [ 1.08254529,  1.12815215, -1.04704552,  0.78018313, -1.75473454],\n",
              "       [ 1.09986601, -0.88640526, -1.04704552,  0.78018313,  1.6615628 ],\n",
              "       [ 1.11718674,  1.12815215,  0.89401752,  0.93286085, -0.93948177],\n",
              "       [ 1.13450746, -0.88640526,  0.26204351,  0.93286085,  0.96277471],\n",
              "       [ 1.15182818,  1.12815215,  0.53288952,  0.97103028, -1.17241113],\n",
              "       [ 1.16914891, -0.88640526, -1.04704552,  0.97103028,  1.73920592],\n",
              "       [ 1.18646963, -0.88640526,  0.26204351,  1.00919971, -0.90066021],\n",
              "       [ 1.20379036,  1.12815215, -1.04704552,  1.00919971,  0.49691598],\n",
              "       [ 1.22111108,  1.12815215,  0.44260751,  1.00919971, -1.44416206],\n",
              "       [ 1.23843181,  1.12815215, -1.04704552,  1.00919971,  0.96277471],\n",
              "       [ 1.25575253,  1.12815215,  0.26204351,  1.00919971, -1.56062674],\n",
              "       [ 1.27307326,  1.12815215,  0.26204351,  1.00919971,  1.62274124],\n",
              "       [ 1.29039398, -0.88640526,  0.98429952,  1.04736914, -1.44416206],\n",
              "       [ 1.30771471, -0.88640526, -1.04704552,  1.04736914,  1.38981187],\n",
              "       [ 1.32503543,  1.12815215,  1.25514553,  1.04736914, -1.36651894],\n",
              "       [ 1.34235616,  1.12815215, -1.04704552,  1.04736914,  0.72984534],\n",
              "       [ 1.35967688,  1.12815215,  1.30028653,  1.23821628, -1.4053405 ],\n",
              "       [ 1.3769976 ,  1.12815215,  0.21690251,  1.23821628,  1.54509812],\n",
              "       [ 1.39431833, -0.88640526,  0.30718451,  1.390894  , -0.7065524 ],\n",
              "       [ 1.41163905, -0.88640526, -1.04704552,  1.390894  ,  1.38981187],\n",
              "       [ 1.42895978,  1.12815215,  0.71345352,  1.42906343, -1.36651894],\n",
              "       [ 1.4462805 , -0.88640526, -1.04704552,  1.42906343,  1.46745499],\n",
              "       [ 1.46360123, -0.88640526,  0.48774851,  1.46723286, -0.43480148],\n",
              "       [ 1.48092195,  1.12815215, -1.04704552,  1.46723286,  1.81684904],\n",
              "       [ 1.49824268, -0.88640526,  1.07458153,  1.54357172, -1.01712489],\n",
              "       [ 1.5155634 ,  1.12815215, -1.04704552,  1.54357172,  0.69102378],\n",
              "       [ 1.53288413, -0.88640526,  0.48774851,  1.61991057, -1.28887582],\n",
              "       [ 1.55020485, -0.88640526,  0.26204351,  1.61991057,  1.35099031],\n",
              "       [ 1.56752558, -0.88640526, -1.04704552,  1.61991057, -1.05594645],\n",
              "       [ 1.5848463 , -0.88640526, -1.04704552,  1.61991057,  0.72984534],\n",
              "       [ 1.60216702,  1.12815215, -1.04704552,  2.00160487, -1.63826986],\n",
              "       [ 1.61948775, -0.88640526,  0.35232551,  2.00160487,  1.58391968],\n",
              "       [ 1.63680847, -0.88640526,  0.75859452,  2.26879087, -1.32769738],\n",
              "       [ 1.6541292 , -0.88640526,  0.21690251,  2.26879087,  1.11806095],\n",
              "       [ 1.67144992, -0.88640526,  0.66831252,  2.49780745, -0.86183865],\n",
              "       [ 1.68877065,  1.12815215, -1.04704552,  2.49780745,  0.92395314],\n",
              "       [ 1.70609137,  1.12815215, -1.04704552,  2.91767117, -1.25005425],\n",
              "       [ 1.7234121 ,  1.12815215, -1.04704552,  2.91767117,  1.27334719]])"
            ]
          },
          "metadata": {},
          "execution_count": 45
        }
      ]
    },
    {
      "cell_type": "code",
      "source": [
        "x=pd.DataFrame(x,columns=names)\n",
        "x"
      ],
      "metadata": {
        "colab": {
          "base_uri": "https://localhost:8080/",
          "height": 468
        },
        "id": "NoMJRGeMP_Jj",
        "outputId": "844dd64a-c3f3-4009-f6b6-79554141b9d7"
      },
      "execution_count": 46,
      "outputs": [
        {
          "output_type": "execute_result",
          "data": {
            "text/plain": [
              "     CustomerID    Gender       Age  Annual Income (k$)  \\\n",
              "0     -1.723412  1.128152 -1.047046           -1.738999   \n",
              "1     -1.706091  1.128152 -1.047046           -1.738999   \n",
              "2     -1.688771 -0.886405 -1.047046           -1.700830   \n",
              "3     -1.671450 -0.886405 -1.047046           -1.700830   \n",
              "4     -1.654129 -0.886405 -1.047046           -1.662660   \n",
              "..          ...       ...       ...                 ...   \n",
              "195    1.654129 -0.886405  0.216903            2.268791   \n",
              "196    1.671450 -0.886405  0.668313            2.497807   \n",
              "197    1.688771  1.128152 -1.047046            2.497807   \n",
              "198    1.706091  1.128152 -1.047046            2.917671   \n",
              "199    1.723412  1.128152 -1.047046            2.917671   \n",
              "\n",
              "     Spending Score (1-100)  \n",
              "0                 -0.434801  \n",
              "1                  1.195704  \n",
              "2                 -1.715913  \n",
              "3                  1.040418  \n",
              "4                 -0.395980  \n",
              "..                      ...  \n",
              "195                1.118061  \n",
              "196               -0.861839  \n",
              "197                0.923953  \n",
              "198               -1.250054  \n",
              "199                1.273347  \n",
              "\n",
              "[200 rows x 5 columns]"
            ],
            "text/html": [
              "\n",
              "  <div id=\"df-2997f956-26bb-4e2d-9c3b-b1125c3f52ea\">\n",
              "    <div class=\"colab-df-container\">\n",
              "      <div>\n",
              "<style scoped>\n",
              "    .dataframe tbody tr th:only-of-type {\n",
              "        vertical-align: middle;\n",
              "    }\n",
              "\n",
              "    .dataframe tbody tr th {\n",
              "        vertical-align: top;\n",
              "    }\n",
              "\n",
              "    .dataframe thead th {\n",
              "        text-align: right;\n",
              "    }\n",
              "</style>\n",
              "<table border=\"1\" class=\"dataframe\">\n",
              "  <thead>\n",
              "    <tr style=\"text-align: right;\">\n",
              "      <th></th>\n",
              "      <th>CustomerID</th>\n",
              "      <th>Gender</th>\n",
              "      <th>Age</th>\n",
              "      <th>Annual Income (k$)</th>\n",
              "      <th>Spending Score (1-100)</th>\n",
              "    </tr>\n",
              "  </thead>\n",
              "  <tbody>\n",
              "    <tr>\n",
              "      <th>0</th>\n",
              "      <td>-1.723412</td>\n",
              "      <td>1.128152</td>\n",
              "      <td>-1.047046</td>\n",
              "      <td>-1.738999</td>\n",
              "      <td>-0.434801</td>\n",
              "    </tr>\n",
              "    <tr>\n",
              "      <th>1</th>\n",
              "      <td>-1.706091</td>\n",
              "      <td>1.128152</td>\n",
              "      <td>-1.047046</td>\n",
              "      <td>-1.738999</td>\n",
              "      <td>1.195704</td>\n",
              "    </tr>\n",
              "    <tr>\n",
              "      <th>2</th>\n",
              "      <td>-1.688771</td>\n",
              "      <td>-0.886405</td>\n",
              "      <td>-1.047046</td>\n",
              "      <td>-1.700830</td>\n",
              "      <td>-1.715913</td>\n",
              "    </tr>\n",
              "    <tr>\n",
              "      <th>3</th>\n",
              "      <td>-1.671450</td>\n",
              "      <td>-0.886405</td>\n",
              "      <td>-1.047046</td>\n",
              "      <td>-1.700830</td>\n",
              "      <td>1.040418</td>\n",
              "    </tr>\n",
              "    <tr>\n",
              "      <th>4</th>\n",
              "      <td>-1.654129</td>\n",
              "      <td>-0.886405</td>\n",
              "      <td>-1.047046</td>\n",
              "      <td>-1.662660</td>\n",
              "      <td>-0.395980</td>\n",
              "    </tr>\n",
              "    <tr>\n",
              "      <th>...</th>\n",
              "      <td>...</td>\n",
              "      <td>...</td>\n",
              "      <td>...</td>\n",
              "      <td>...</td>\n",
              "      <td>...</td>\n",
              "    </tr>\n",
              "    <tr>\n",
              "      <th>195</th>\n",
              "      <td>1.654129</td>\n",
              "      <td>-0.886405</td>\n",
              "      <td>0.216903</td>\n",
              "      <td>2.268791</td>\n",
              "      <td>1.118061</td>\n",
              "    </tr>\n",
              "    <tr>\n",
              "      <th>196</th>\n",
              "      <td>1.671450</td>\n",
              "      <td>-0.886405</td>\n",
              "      <td>0.668313</td>\n",
              "      <td>2.497807</td>\n",
              "      <td>-0.861839</td>\n",
              "    </tr>\n",
              "    <tr>\n",
              "      <th>197</th>\n",
              "      <td>1.688771</td>\n",
              "      <td>1.128152</td>\n",
              "      <td>-1.047046</td>\n",
              "      <td>2.497807</td>\n",
              "      <td>0.923953</td>\n",
              "    </tr>\n",
              "    <tr>\n",
              "      <th>198</th>\n",
              "      <td>1.706091</td>\n",
              "      <td>1.128152</td>\n",
              "      <td>-1.047046</td>\n",
              "      <td>2.917671</td>\n",
              "      <td>-1.250054</td>\n",
              "    </tr>\n",
              "    <tr>\n",
              "      <th>199</th>\n",
              "      <td>1.723412</td>\n",
              "      <td>1.128152</td>\n",
              "      <td>-1.047046</td>\n",
              "      <td>2.917671</td>\n",
              "      <td>1.273347</td>\n",
              "    </tr>\n",
              "  </tbody>\n",
              "</table>\n",
              "<p>200 rows × 5 columns</p>\n",
              "</div>\n",
              "      <button class=\"colab-df-convert\" onclick=\"convertToInteractive('df-2997f956-26bb-4e2d-9c3b-b1125c3f52ea')\"\n",
              "              title=\"Convert this dataframe to an interactive table.\"\n",
              "              style=\"display:none;\">\n",
              "        \n",
              "  <svg xmlns=\"http://www.w3.org/2000/svg\" height=\"24px\"viewBox=\"0 0 24 24\"\n",
              "       width=\"24px\">\n",
              "    <path d=\"M0 0h24v24H0V0z\" fill=\"none\"/>\n",
              "    <path d=\"M18.56 5.44l.94 2.06.94-2.06 2.06-.94-2.06-.94-.94-2.06-.94 2.06-2.06.94zm-11 1L8.5 8.5l.94-2.06 2.06-.94-2.06-.94L8.5 2.5l-.94 2.06-2.06.94zm10 10l.94 2.06.94-2.06 2.06-.94-2.06-.94-.94-2.06-.94 2.06-2.06.94z\"/><path d=\"M17.41 7.96l-1.37-1.37c-.4-.4-.92-.59-1.43-.59-.52 0-1.04.2-1.43.59L10.3 9.45l-7.72 7.72c-.78.78-.78 2.05 0 2.83L4 21.41c.39.39.9.59 1.41.59.51 0 1.02-.2 1.41-.59l7.78-7.78 2.81-2.81c.8-.78.8-2.07 0-2.86zM5.41 20L4 18.59l7.72-7.72 1.47 1.35L5.41 20z\"/>\n",
              "  </svg>\n",
              "      </button>\n",
              "      \n",
              "  <style>\n",
              "    .colab-df-container {\n",
              "      display:flex;\n",
              "      flex-wrap:wrap;\n",
              "      gap: 12px;\n",
              "    }\n",
              "\n",
              "    .colab-df-convert {\n",
              "      background-color: #E8F0FE;\n",
              "      border: none;\n",
              "      border-radius: 50%;\n",
              "      cursor: pointer;\n",
              "      display: none;\n",
              "      fill: #1967D2;\n",
              "      height: 32px;\n",
              "      padding: 0 0 0 0;\n",
              "      width: 32px;\n",
              "    }\n",
              "\n",
              "    .colab-df-convert:hover {\n",
              "      background-color: #E2EBFA;\n",
              "      box-shadow: 0px 1px 2px rgba(60, 64, 67, 0.3), 0px 1px 3px 1px rgba(60, 64, 67, 0.15);\n",
              "      fill: #174EA6;\n",
              "    }\n",
              "\n",
              "    [theme=dark] .colab-df-convert {\n",
              "      background-color: #3B4455;\n",
              "      fill: #D2E3FC;\n",
              "    }\n",
              "\n",
              "    [theme=dark] .colab-df-convert:hover {\n",
              "      background-color: #434B5C;\n",
              "      box-shadow: 0px 1px 3px 1px rgba(0, 0, 0, 0.15);\n",
              "      filter: drop-shadow(0px 1px 2px rgba(0, 0, 0, 0.3));\n",
              "      fill: #FFFFFF;\n",
              "    }\n",
              "  </style>\n",
              "\n",
              "      <script>\n",
              "        const buttonEl =\n",
              "          document.querySelector('#df-2997f956-26bb-4e2d-9c3b-b1125c3f52ea button.colab-df-convert');\n",
              "        buttonEl.style.display =\n",
              "          google.colab.kernel.accessAllowed ? 'block' : 'none';\n",
              "\n",
              "        async function convertToInteractive(key) {\n",
              "          const element = document.querySelector('#df-2997f956-26bb-4e2d-9c3b-b1125c3f52ea');\n",
              "          const dataTable =\n",
              "            await google.colab.kernel.invokeFunction('convertToInteractive',\n",
              "                                                     [key], {});\n",
              "          if (!dataTable) return;\n",
              "\n",
              "          const docLinkHtml = 'Like what you see? Visit the ' +\n",
              "            '<a target=\"_blank\" href=https://colab.research.google.com/notebooks/data_table.ipynb>data table notebook</a>'\n",
              "            + ' to learn more about interactive tables.';\n",
              "          element.innerHTML = '';\n",
              "          dataTable['output_type'] = 'display_data';\n",
              "          await google.colab.output.renderOutput(dataTable, element);\n",
              "          const docLink = document.createElement('div');\n",
              "          docLink.innerHTML = docLinkHtml;\n",
              "          element.appendChild(docLink);\n",
              "        }\n",
              "      </script>\n",
              "    </div>\n",
              "  </div>\n",
              "  "
            ]
          },
          "metadata": {},
          "execution_count": 46
        }
      ]
    },
    {
      "cell_type": "code",
      "source": [
        "#Perform any of the clustering algorithms\n",
        "#Kmeans clustering\n",
        "from sklearn.cluster import KMeans"
      ],
      "metadata": {
        "id": "V7-BMYWpQDYS"
      },
      "execution_count": 47,
      "outputs": []
    },
    {
      "cell_type": "code",
      "source": [
        "PJAA=[]\n",
        "k=list(range(2,9))\n",
        "\n",
        "for i in k:\n",
        "    kmeans=KMeans(n_clusters=i,init='k-means++')\n",
        "    kmeans.fit(data)\n",
        "    PJAA.append(kmeans.inertia_)"
      ],
      "metadata": {
        "id": "MQkcV9jEQGnj"
      },
      "execution_count": 48,
      "outputs": []
    },
    {
      "cell_type": "code",
      "source": [
        "PJAA"
      ],
      "metadata": {
        "colab": {
          "base_uri": "https://localhost:8080/"
        },
        "id": "hOg3eItbQJpb",
        "outputId": "fd45cbd2-d053-469f-cdd9-ef5036e667d6"
      },
      "execution_count": 49,
      "outputs": [
        {
          "output_type": "execute_result",
          "data": {
            "text/plain": [
              "[445698.6278627863,\n",
              " 325787.09074274875,\n",
              " 245928.9448954999,\n",
              " 195438.05301054876,\n",
              " 159179.36438135503,\n",
              " 137803.87769938394,\n",
              " 118566.06884371667]"
            ]
          },
          "metadata": {},
          "execution_count": 49
        }
      ]
    },
    {
      "cell_type": "code",
      "source": [
        "plt.plot(k,PJAA,'ro--')\n",
        "plt.xlabel('no of cluster')\n",
        "plt.ylabel('PJAA')"
      ],
      "metadata": {
        "colab": {
          "base_uri": "https://localhost:8080/",
          "height": 306
        },
        "id": "L2JcjMcDQNs8",
        "outputId": "3f029aea-4c15-471f-9c0c-282713138748"
      },
      "execution_count": 50,
      "outputs": [
        {
          "output_type": "execute_result",
          "data": {
            "text/plain": [
              "Text(0, 0.5, 'PJAA')"
            ]
          },
          "metadata": {},
          "execution_count": 50
        },
        {
          "output_type": "display_data",
          "data": {
            "text/plain": [
              "<Figure size 432x288 with 1 Axes>"
            ],
            "image/png": "[encoded data removed]"
          },
          "metadata": {}
        }
      ]
    },
    {
      "cell_type": "code",
      "source": [
        "model=KMeans(n_clusters=4)\n",
        "model.fit(data)"
      ],
      "metadata": {
        "colab": {
          "base_uri": "https://localhost:8080/"
        },
        "id": "HA9fYzUSQSl7",
        "outputId": "c2d2a839-bd13-4a72-d30e-2e27087c42ab"
      },
      "execution_count": 51,
      "outputs": [
        {
          "output_type": "execute_result",
          "data": {
            "text/plain": [
              "KMeans(n_clusters=4)"
            ]
          },
          "metadata": {},
          "execution_count": 51
        }
      ]
    },
    {
      "cell_type": "code",
      "source": [
        "#Add the cluster data with the primary dataset\n",
        "model.labels_"
      ],
      "metadata": {
        "colab": {
          "base_uri": "https://localhost:8080/"
        },
        "id": "Y06H2lcrQVmz",
        "outputId": "c7c9c088-319d-4ac5-f6c8-29c547e83080"
      },
      "execution_count": 52,
      "outputs": [
        {
          "output_type": "execute_result",
          "data": {
            "text/plain": [
              "array([1, 1, 1, 1, 1, 1, 1, 1, 1, 1, 1, 1, 1, 1, 1, 1, 1, 1, 1, 1, 1, 1,\n",
              "       1, 1, 1, 1, 1, 1, 1, 1, 1, 1, 1, 1, 1, 1, 1, 1, 1, 1, 1, 1, 1, 1,\n",
              "       1, 1, 1, 1, 1, 1, 1, 1, 1, 1, 1, 1, 1, 3, 1, 3, 3, 1, 3, 3, 3, 3,\n",
              "       3, 3, 3, 3, 3, 3, 3, 3, 3, 3, 3, 3, 3, 3, 3, 3, 3, 3, 3, 3, 3, 3,\n",
              "       3, 3, 3, 3, 3, 3, 3, 3, 3, 3, 3, 3, 3, 3, 3, 3, 3, 3, 3, 3, 3, 3,\n",
              "       3, 3, 3, 3, 3, 3, 3, 3, 3, 3, 3, 3, 3, 0, 3, 0, 3, 0, 2, 0, 2, 0,\n",
              "       2, 0, 2, 0, 2, 0, 2, 0, 2, 0, 2, 0, 2, 0, 2, 0, 2, 0, 2, 0, 2, 0,\n",
              "       2, 0, 2, 0, 2, 0, 2, 0, 2, 0, 2, 0, 2, 0, 2, 0, 2, 0, 2, 0, 2, 0,\n",
              "       2, 0, 2, 0, 2, 0, 2, 0, 2, 0, 2, 0, 2, 0, 2, 0, 2, 0, 2, 0, 2, 0,\n",
              "       2, 0], dtype=int32)"
            ]
          },
          "metadata": {},
          "execution_count": 52
        }
      ]
    },
    {
      "cell_type": "code",
      "source": [
        "mb=pd.Series(model.labels_)"
      ],
      "metadata": {
        "id": "s3h0gaVxQY3b"
      },
      "execution_count": 53,
      "outputs": []
    },
    {
      "cell_type": "code",
      "source": [
        "data.head(3)"
      ],
      "metadata": {
        "colab": {
          "base_uri": "https://localhost:8080/",
          "height": 143
        },
        "id": "21cu5DkzQbrS",
        "outputId": "05021123-9b0c-4d41-e394-4df6ed87dc7e"
      },
      "execution_count": 54,
      "outputs": [
        {
          "output_type": "execute_result",
          "data": {
            "text/plain": [
              "   CustomerID  Gender  Age  Annual Income (k$)  Spending Score (1-100)\n",
              "0           1       1    7                  15                      39\n",
              "1           2       1    7                  15                      81\n",
              "2           3       0    7                  16                       6"
            ],
            "text/html": [
              "\n",
              "  <div id=\"df-243d2275-e540-4ed9-8807-bf927bb93266\">\n",
              "    <div class=\"colab-df-container\">\n",
              "      <div>\n",
              "<style scoped>\n",
              "    .dataframe tbody tr th:only-of-type {\n",
              "        vertical-align: middle;\n",
              "    }\n",
              "\n",
              "    .dataframe tbody tr th {\n",
              "        vertical-align: top;\n",
              "    }\n",
              "\n",
              "    .dataframe thead th {\n",
              "        text-align: right;\n",
              "    }\n",
              "</style>\n",
              "<table border=\"1\" class=\"dataframe\">\n",
              "  <thead>\n",
              "    <tr style=\"text-align: right;\">\n",
              "      <th></th>\n",
              "      <th>CustomerID</th>\n",
              "      <th>Gender</th>\n",
              "      <th>Age</th>\n",
              "      <th>Annual Income (k$)</th>\n",
              "      <th>Spending Score (1-100)</th>\n",
              "    </tr>\n",
              "  </thead>\n",
              "  <tbody>\n",
              "    <tr>\n",
              "      <th>0</th>\n",
              "      <td>1</td>\n",
              "      <td>1</td>\n",
              "      <td>7</td>\n",
              "      <td>15</td>\n",
              "      <td>39</td>\n",
              "    </tr>\n",
              "    <tr>\n",
              "      <th>1</th>\n",
              "      <td>2</td>\n",
              "      <td>1</td>\n",
              "      <td>7</td>\n",
              "      <td>15</td>\n",
              "      <td>81</td>\n",
              "    </tr>\n",
              "    <tr>\n",
              "      <th>2</th>\n",
              "      <td>3</td>\n",
              "      <td>0</td>\n",
              "      <td>7</td>\n",
              "      <td>16</td>\n",
              "      <td>6</td>\n",
              "    </tr>\n",
              "  </tbody>\n",
              "</table>\n",
              "</div>\n",
              "      <button class=\"colab-df-convert\" onclick=\"convertToInteractive('df-243d2275-e540-4ed9-8807-bf927bb93266')\"\n",
              "              title=\"Convert this dataframe to an interactive table.\"\n",
              "              style=\"display:none;\">\n",
              "        \n",
              "  <svg xmlns=\"http://www.w3.org/2000/svg\" height=\"24px\"viewBox=\"0 0 24 24\"\n",
              "       width=\"24px\">\n",
              "    <path d=\"M0 0h24v24H0V0z\" fill=\"none\"/>\n",
              "    <path d=\"M18.56 5.44l.94 2.06.94-2.06 2.06-.94-2.06-.94-.94-2.06-.94 2.06-2.06.94zm-11 1L8.5 8.5l.94-2.06 2.06-.94-2.06-.94L8.5 2.5l-.94 2.06-2.06.94zm10 10l.94 2.06.94-2.06 2.06-.94-2.06-.94-.94-2.06-.94 2.06-2.06.94z\"/><path d=\"M17.41 7.96l-1.37-1.37c-.4-.4-.92-.59-1.43-.59-.52 0-1.04.2-1.43.59L10.3 9.45l-7.72 7.72c-.78.78-.78 2.05 0 2.83L4 21.41c.39.39.9.59 1.41.59.51 0 1.02-.2 1.41-.59l7.78-7.78 2.81-2.81c.8-.78.8-2.07 0-2.86zM5.41 20L4 18.59l7.72-7.72 1.47 1.35L5.41 20z\"/>\n",
              "  </svg>\n",
              "      </button>\n",
              "      \n",
              "  <style>\n",
              "    .colab-df-container {\n",
              "      display:flex;\n",
              "      flex-wrap:wrap;\n",
              "      gap: 12px;\n",
              "    }\n",
              "\n",
              "    .colab-df-convert {\n",
              "      background-color: #E8F0FE;\n",
              "      border: none;\n",
              "      border-radius: 50%;\n",
              "      cursor: pointer;\n",
              "      display: none;\n",
              "      fill: #1967D2;\n",
              "      height: 32px;\n",
              "      padding: 0 0 0 0;\n",
              "      width: 32px;\n",
              "    }\n",
              "\n",
              "    .colab-df-convert:hover {\n",
              "      background-color: #E2EBFA;\n",
              "      box-shadow: 0px 1px 2px rgba(60, 64, 67, 0.3), 0px 1px 3px 1px rgba(60, 64, 67, 0.15);\n",
              "      fill: #174EA6;\n",
              "    }\n",
              "\n",
              "    [theme=dark] .colab-df-convert {\n",
              "      background-color: #3B4455;\n",
              "      fill: #D2E3FC;\n",
              "    }\n",
              "\n",
              "    [theme=dark] .colab-df-convert:hover {\n",
              "      background-color: #434B5C;\n",
              "      box-shadow: 0px 1px 3px 1px rgba(0, 0, 0, 0.15);\n",
              "      filter: drop-shadow(0px 1px 2px rgba(0, 0, 0, 0.3));\n",
              "      fill: #FFFFFF;\n",
              "    }\n",
              "  </style>\n",
              "\n",
              "      <script>\n",
              "        const buttonEl =\n",
              "          document.querySelector('#df-243d2275-e540-4ed9-8807-bf927bb93266 button.colab-df-convert');\n",
              "        buttonEl.style.display =\n",
              "          google.colab.kernel.accessAllowed ? 'block' : 'none';\n",
              "\n",
              "        async function convertToInteractive(key) {\n",
              "          const element = document.querySelector('#df-243d2275-e540-4ed9-8807-bf927bb93266');\n",
              "          const dataTable =\n",
              "            await google.colab.kernel.invokeFunction('convertToInteractive',\n",
              "                                                     [key], {});\n",
              "          if (!dataTable) return;\n",
              "\n",
              "          const docLinkHtml = 'Like what you see? Visit the ' +\n",
              "            '<a target=\"_blank\" href=https://colab.research.google.com/notebooks/data_table.ipynb>data table notebook</a>'\n",
              "            + ' to learn more about interactive tables.';\n",
              "          element.innerHTML = '';\n",
              "          dataTable['output_type'] = 'display_data';\n",
              "          await google.colab.output.renderOutput(dataTable, element);\n",
              "          const docLink = document.createElement('div');\n",
              "          docLink.innerHTML = docLinkHtml;\n",
              "          element.appendChild(docLink);\n",
              "        }\n",
              "      </script>\n",
              "    </div>\n",
              "  </div>\n",
              "  "
            ]
          },
          "metadata": {},
          "execution_count": 54
        }
      ]
    },
    {
      "cell_type": "code",
      "source": [
        "data.tail()"
      ],
      "metadata": {
        "colab": {
          "base_uri": "https://localhost:8080/",
          "height": 206
        },
        "id": "4kPuoBlXQdkr",
        "outputId": "0c4ff83d-f834-49a9-89d2-2aaea6e7ca68"
      },
      "execution_count": 55,
      "outputs": [
        {
          "output_type": "execute_result",
          "data": {
            "text/plain": [
              "     CustomerID  Gender  Age  Annual Income (k$)  Spending Score (1-100)\n",
              "195         196       0   35                 120                      79\n",
              "196         197       0   45                 126                      28\n",
              "197         198       1    7                 126                      74\n",
              "198         199       1    7                 137                      18\n",
              "199         200       1    7                 137                      83"
            ],
            "text/html": [
              "\n",
              "  <div id=\"df-e699677d-5ecf-4287-a813-9959072a75ed\">\n",
              "    <div class=\"colab-df-container\">\n",
              "      <div>\n",
              "<style scoped>\n",
              "    .dataframe tbody tr th:only-of-type {\n",
              "        vertical-align: middle;\n",
              "    }\n",
              "\n",
              "    .dataframe tbody tr th {\n",
              "        vertical-align: top;\n",
              "    }\n",
              "\n",
              "    .dataframe thead th {\n",
              "        text-align: right;\n",
              "    }\n",
              "</style>\n",
              "<table border=\"1\" class=\"dataframe\">\n",
              "  <thead>\n",
              "    <tr style=\"text-align: right;\">\n",
              "      <th></th>\n",
              "      <th>CustomerID</th>\n",
              "      <th>Gender</th>\n",
              "      <th>Age</th>\n",
              "      <th>Annual Income (k$)</th>\n",
              "      <th>Spending Score (1-100)</th>\n",
              "    </tr>\n",
              "  </thead>\n",
              "  <tbody>\n",
              "    <tr>\n",
              "      <th>195</th>\n",
              "      <td>196</td>\n",
              "      <td>0</td>\n",
              "      <td>35</td>\n",
              "      <td>120</td>\n",
              "      <td>79</td>\n",
              "    </tr>\n",
              "    <tr>\n",
              "      <th>196</th>\n",
              "      <td>197</td>\n",
              "      <td>0</td>\n",
              "      <td>45</td>\n",
              "      <td>126</td>\n",
              "      <td>28</td>\n",
              "    </tr>\n",
              "    <tr>\n",
              "      <th>197</th>\n",
              "      <td>198</td>\n",
              "      <td>1</td>\n",
              "      <td>7</td>\n",
              "      <td>126</td>\n",
              "      <td>74</td>\n",
              "    </tr>\n",
              "    <tr>\n",
              "      <th>198</th>\n",
              "      <td>199</td>\n",
              "      <td>1</td>\n",
              "      <td>7</td>\n",
              "      <td>137</td>\n",
              "      <td>18</td>\n",
              "    </tr>\n",
              "    <tr>\n",
              "      <th>199</th>\n",
              "      <td>200</td>\n",
              "      <td>1</td>\n",
              "      <td>7</td>\n",
              "      <td>137</td>\n",
              "      <td>83</td>\n",
              "    </tr>\n",
              "  </tbody>\n",
              "</table>\n",
              "</div>\n",
              "      <button class=\"colab-df-convert\" onclick=\"convertToInteractive('df-e699677d-5ecf-4287-a813-9959072a75ed')\"\n",
              "              title=\"Convert this dataframe to an interactive table.\"\n",
              "              style=\"display:none;\">\n",
              "        \n",
              "  <svg xmlns=\"http://www.w3.org/2000/svg\" height=\"24px\"viewBox=\"0 0 24 24\"\n",
              "       width=\"24px\">\n",
              "    <path d=\"M0 0h24v24H0V0z\" fill=\"none\"/>\n",
              "    <path d=\"M18.56 5.44l.94 2.06.94-2.06 2.06-.94-2.06-.94-.94-2.06-.94 2.06-2.06.94zm-11 1L8.5 8.5l.94-2.06 2.06-.94-2.06-.94L8.5 2.5l-.94 2.06-2.06.94zm10 10l.94 2.06.94-2.06 2.06-.94-2.06-.94-.94-2.06-.94 2.06-2.06.94z\"/><path d=\"M17.41 7.96l-1.37-1.37c-.4-.4-.92-.59-1.43-.59-.52 0-1.04.2-1.43.59L10.3 9.45l-7.72 7.72c-.78.78-.78 2.05 0 2.83L4 21.41c.39.39.9.59 1.41.59.51 0 1.02-.2 1.41-.59l7.78-7.78 2.81-2.81c.8-.78.8-2.07 0-2.86zM5.41 20L4 18.59l7.72-7.72 1.47 1.35L5.41 20z\"/>\n",
              "  </svg>\n",
              "      </button>\n",
              "      \n",
              "  <style>\n",
              "    .colab-df-container {\n",
              "      display:flex;\n",
              "      flex-wrap:wrap;\n",
              "      gap: 12px;\n",
              "    }\n",
              "\n",
              "    .colab-df-convert {\n",
              "      background-color: #E8F0FE;\n",
              "      border: none;\n",
              "      border-radius: 50%;\n",
              "      cursor: pointer;\n",
              "      display: none;\n",
              "      fill: #1967D2;\n",
              "      height: 32px;\n",
              "      padding: 0 0 0 0;\n",
              "      width: 32px;\n",
              "    }\n",
              "\n",
              "    .colab-df-convert:hover {\n",
              "      background-color: #E2EBFA;\n",
              "      box-shadow: 0px 1px 2px rgba(60, 64, 67, 0.3), 0px 1px 3px 1px rgba(60, 64, 67, 0.15);\n",
              "      fill: #174EA6;\n",
              "    }\n",
              "\n",
              "    [theme=dark] .colab-df-convert {\n",
              "      background-color: #3B4455;\n",
              "      fill: #D2E3FC;\n",
              "    }\n",
              "\n",
              "    [theme=dark] .colab-df-convert:hover {\n",
              "      background-color: #434B5C;\n",
              "      box-shadow: 0px 1px 3px 1px rgba(0, 0, 0, 0.15);\n",
              "      filter: drop-shadow(0px 1px 2px rgba(0, 0, 0, 0.3));\n",
              "      fill: #FFFFFF;\n",
              "    }\n",
              "  </style>\n",
              "\n",
              "      <script>\n",
              "        const buttonEl =\n",
              "          document.querySelector('#df-e699677d-5ecf-4287-a813-9959072a75ed button.colab-df-convert');\n",
              "        buttonEl.style.display =\n",
              "          google.colab.kernel.accessAllowed ? 'block' : 'none';\n",
              "\n",
              "        async function convertToInteractive(key) {\n",
              "          const element = document.querySelector('#df-e699677d-5ecf-4287-a813-9959072a75ed');\n",
              "          const dataTable =\n",
              "            await google.colab.kernel.invokeFunction('convertToInteractive',\n",
              "                                                     [key], {});\n",
              "          if (!dataTable) return;\n",
              "\n",
              "          const docLinkHtml = 'Like what you see? Visit the ' +\n",
              "            '<a target=\"_blank\" href=https://colab.research.google.com/notebooks/data_table.ipynb>data table notebook</a>'\n",
              "            + ' to learn more about interactive tables.';\n",
              "          element.innerHTML = '';\n",
              "          dataTable['output_type'] = 'display_data';\n",
              "          await google.colab.output.renderOutput(dataTable, element);\n",
              "          const docLink = document.createElement('div');\n",
              "          docLink.innerHTML = docLinkHtml;\n",
              "          element.appendChild(docLink);\n",
              "        }\n",
              "      </script>\n",
              "    </div>\n",
              "  </div>\n",
              "  "
            ]
          },
          "metadata": {},
          "execution_count": 55
        }
      ]
    },
    {
      "cell_type": "code",
      "source": [
        "data.to_csv('Kmeans_Mall_Customers.csv',encoding='utf-8')\n"
      ],
      "metadata": {
        "id": "JNrCYqVuQiWy"
      },
      "execution_count": 56,
      "outputs": []
    },
    {
      "cell_type": "code",
      "source": [
        "#Split the data into dependent and independent variables.\n",
        "X=data.iloc[:,:-1].values\n",
        "y=data.iloc[:,-1].values\n",
        "X"
      ],
      "metadata": {
        "colab": {
          "base_uri": "https://localhost:8080/"
        },
        "id": "b4AUGG8ZQk-C",
        "outputId": "5101455f-9147-4b64-ee95-ce0df262d403"
      },
      "execution_count": 57,
      "outputs": [
        {
          "output_type": "execute_result",
          "data": {
            "text/plain": [
              "array([[  1,   1,   7,  15],\n",
              "       [  2,   1,   7,  15],\n",
              "       [  3,   0,   7,  16],\n",
              "       [  4,   0,   7,  16],\n",
              "       [  5,   0,   7,  17],\n",
              "       [  6,   0,   7,  17],\n",
              "       [  7,   0,  35,  18],\n",
              "       [  8,   0,   7,  18],\n",
              "       [  9,   1,  64,  19],\n",
              "       [ 10,   0,   7,  19],\n",
              "       [ 11,   1,  67,  19],\n",
              "       [ 12,   0,  35,  19],\n",
              "       [ 13,   0,  58,  20],\n",
              "       [ 14,   0,   7,  20],\n",
              "       [ 15,   1,  37,  20],\n",
              "       [ 16,   1,   7,  20],\n",
              "       [ 17,   0,  35,  21],\n",
              "       [ 18,   1,   7,  21],\n",
              "       [ 19,   1,  52,  23],\n",
              "       [ 20,   0,  35,  23],\n",
              "       [ 21,   1,  35,  24],\n",
              "       [ 22,   1,   7,  24],\n",
              "       [ 23,   0,  46,  25],\n",
              "       [ 24,   1,   7,  25],\n",
              "       [ 25,   0,  54,  28],\n",
              "       [ 26,   1,   7,  28],\n",
              "       [ 27,   0,  45,  28],\n",
              "       [ 28,   1,  35,  28],\n",
              "       [ 29,   0,  40,  29],\n",
              "       [ 30,   0,   7,  29],\n",
              "       [ 31,   1,  60,  30],\n",
              "       [ 32,   0,   7,  30],\n",
              "       [ 33,   1,  53,  33],\n",
              "       [ 34,   1,   7,  33],\n",
              "       [ 35,   0,  49,  33],\n",
              "       [ 36,   0,   7,  33],\n",
              "       [ 37,   0,  42,  34],\n",
              "       [ 38,   0,   7,  34],\n",
              "       [ 39,   0,  36,  37],\n",
              "       [ 40,   0,   7,  37],\n",
              "       [ 41,   0,  65,  38],\n",
              "       [ 42,   1,   7,  38],\n",
              "       [ 43,   1,  48,  39],\n",
              "       [ 44,   0,   7,  39],\n",
              "       [ 45,   0,  49,  39],\n",
              "       [ 46,   0,   7,  39],\n",
              "       [ 47,   0,  50,  40],\n",
              "       [ 48,   0,   7,  40],\n",
              "       [ 49,   0,   7,  40],\n",
              "       [ 50,   0,   7,  40],\n",
              "       [ 51,   0,  49,  42],\n",
              "       [ 52,   1,   7,  42],\n",
              "       [ 53,   0,   7,  43],\n",
              "       [ 54,   1,  59,  43],\n",
              "       [ 55,   0,  50,  43],\n",
              "       [ 56,   1,  47,  43],\n",
              "       [ 57,   0,  51,  44],\n",
              "       [ 58,   1,  69,  44],\n",
              "       [ 59,   0,   7,  46],\n",
              "       [ 60,   1,  53,  46],\n",
              "       [ 61,   1,  70,  46],\n",
              "       [ 62,   1,   7,  46],\n",
              "       [ 63,   0,  67,  47],\n",
              "       [ 64,   0,  54,  47],\n",
              "       [ 65,   1,  63,  48],\n",
              "       [ 66,   1,   7,  48],\n",
              "       [ 67,   0,  43,  48],\n",
              "       [ 68,   0,  68,  48],\n",
              "       [ 69,   1,   7,  48],\n",
              "       [ 70,   0,   7,  48],\n",
              "       [ 71,   1,  70,  49],\n",
              "       [ 72,   0,  47,  49],\n",
              "       [ 73,   0,  60,  50],\n",
              "       [ 74,   0,  60,  50],\n",
              "       [ 75,   1,  59,  54],\n",
              "       [ 76,   1,   7,  54],\n",
              "       [ 77,   0,  45,  54],\n",
              "       [ 78,   1,  40,  54],\n",
              "       [ 79,   0,   7,  54],\n",
              "       [ 80,   0,  49,  54],\n",
              "       [ 81,   1,  57,  54],\n",
              "       [ 82,   1,  38,  54],\n",
              "       [ 83,   1,  67,  54],\n",
              "       [ 84,   0,  46,  54],\n",
              "       [ 85,   0,   7,  54],\n",
              "       [ 86,   1,  48,  54],\n",
              "       [ 87,   0,  55,  57],\n",
              "       [ 88,   0,   7,  57],\n",
              "       [ 89,   0,   7,  58],\n",
              "       [ 90,   0,  50,  58],\n",
              "       [ 91,   0,  68,  59],\n",
              "       [ 92,   1,   7,  59],\n",
              "       [ 93,   1,  48,  60],\n",
              "       [ 94,   0,  40,  60],\n",
              "       [ 95,   0,   7,  60],\n",
              "       [ 96,   1,   7,  60],\n",
              "       [ 97,   0,  47,  60],\n",
              "       [ 98,   0,   7,  60],\n",
              "       [ 99,   1,  48,  61],\n",
              "       [100,   1,   7,  61],\n",
              "       [101,   0,   7,  62],\n",
              "       [102,   0,  49,  62],\n",
              "       [103,   1,  67,  62],\n",
              "       [104,   1,   7,  62],\n",
              "       [105,   1,  49,  62],\n",
              "       [106,   0,   7,  62],\n",
              "       [107,   0,  66,  63],\n",
              "       [108,   1,  54,  63],\n",
              "       [109,   1,  68,  63],\n",
              "       [110,   1,  66,  63],\n",
              "       [111,   1,  65,  63],\n",
              "       [112,   0,   7,  63],\n",
              "       [113,   0,  38,  64],\n",
              "       [114,   1,   7,  64],\n",
              "       [115,   0,   7,  65],\n",
              "       [116,   0,   7,  65],\n",
              "       [117,   0,  63,  65],\n",
              "       [118,   0,  49,  65],\n",
              "       [119,   0,  51,  67],\n",
              "       [120,   0,  50,  67],\n",
              "       [121,   1,   7,  67],\n",
              "       [122,   0,  38,  67],\n",
              "       [123,   0,  40,  69],\n",
              "       [124,   1,  39,  69],\n",
              "       [125,   0,   7,  70],\n",
              "       [126,   0,   7,  70],\n",
              "       [127,   1,  43,  71],\n",
              "       [128,   1,  40,  71],\n",
              "       [129,   1,  59,  71],\n",
              "       [130,   1,  38,  71],\n",
              "       [131,   1,  47,  71],\n",
              "       [132,   1,  39,  71],\n",
              "       [133,   0,   7,  72],\n",
              "       [134,   0,   7,  72],\n",
              "       [135,   1,   7,  73],\n",
              "       [136,   0,   7,  73],\n",
              "       [137,   0,  44,  73],\n",
              "       [138,   1,   7,  73],\n",
              "       [139,   1,   7,  74],\n",
              "       [140,   0,  35,  74],\n",
              "       [141,   0,  57,  75],\n",
              "       [142,   1,   7,  75],\n",
              "       [143,   0,   7,  76],\n",
              "       [144,   0,   7,  76],\n",
              "       [145,   1,   7,  77],\n",
              "       [146,   1,   7,  77],\n",
              "       [147,   1,  48,  77],\n",
              "       [148,   0,   7,  77],\n",
              "       [149,   0,   7,  78],\n",
              "       [150,   1,   7,  78],\n",
              "       [151,   1,  43,  78],\n",
              "       [152,   1,  39,  78],\n",
              "       [153,   0,  44,  78],\n",
              "       [154,   0,  38,  78],\n",
              "       [155,   0,  47,  78],\n",
              "       [156,   0,   7,  78],\n",
              "       [157,   1,  37,  78],\n",
              "       [158,   0,   7,  78],\n",
              "       [159,   1,   7,  78],\n",
              "       [160,   0,   7,  78],\n",
              "       [161,   0,  56,  79],\n",
              "       [162,   0,   7,  79],\n",
              "       [163,   1,   7,  81],\n",
              "       [164,   0,   7,  81],\n",
              "       [165,   1,  50,  85],\n",
              "       [166,   0,  36,  85],\n",
              "       [167,   1,  42,  86],\n",
              "       [168,   0,   7,  86],\n",
              "       [169,   0,  36,  87],\n",
              "       [170,   1,   7,  87],\n",
              "       [171,   1,  40,  87],\n",
              "       [172,   1,   7,  87],\n",
              "       [173,   1,  36,  87],\n",
              "       [174,   1,  36,  87],\n",
              "       [175,   0,  52,  88],\n",
              "       [176,   0,   7,  88],\n",
              "       [177,   1,  58,  88],\n",
              "       [178,   1,   7,  88],\n",
              "       [179,   1,  59,  93],\n",
              "       [180,   1,  35,  93],\n",
              "       [181,   0,  37,  97],\n",
              "       [182,   0,   7,  97],\n",
              "       [183,   1,  46,  98],\n",
              "       [184,   0,   7,  98],\n",
              "       [185,   0,  41,  99],\n",
              "       [186,   1,   7,  99],\n",
              "       [187,   0,  54, 101],\n",
              "       [188,   1,   7, 101],\n",
              "       [189,   0,  41, 103],\n",
              "       [190,   0,  36, 103],\n",
              "       [191,   0,   7, 103],\n",
              "       [192,   0,   7, 103],\n",
              "       [193,   1,   7, 113],\n",
              "       [194,   0,  38, 113],\n",
              "       [195,   0,  47, 120],\n",
              "       [196,   0,  35, 120],\n",
              "       [197,   0,  45, 126],\n",
              "       [198,   1,   7, 126],\n",
              "       [199,   1,   7, 137],\n",
              "       [200,   1,   7, 137]])"
            ]
          },
          "metadata": {},
          "execution_count": 57
        }
      ]
    },
    {
      "cell_type": "code",
      "source": [
        "y"
      ],
      "metadata": {
        "colab": {
          "base_uri": "https://localhost:8080/"
        },
        "id": "gsvFwQfTQoei",
        "outputId": "419e87de-7617-4d2d-ef9d-224cc20de04b"
      },
      "execution_count": 58,
      "outputs": [
        {
          "output_type": "execute_result",
          "data": {
            "text/plain": [
              "array([39, 81,  6, 77, 40, 76,  6, 94,  3, 72, 14, 99, 15, 77, 13, 79, 35,\n",
              "       66, 29, 98, 35, 73,  5, 73, 14, 82, 32, 61, 31, 87,  4, 73,  4, 92,\n",
              "       14, 81, 17, 73, 26, 75, 35, 92, 36, 61, 28, 65, 55, 47, 42, 42, 52,\n",
              "       60, 54, 60, 45, 41, 50, 46, 51, 46, 56, 55, 52, 59, 51, 59, 50, 48,\n",
              "       59, 47, 55, 42, 49, 56, 47, 54, 53, 48, 52, 42, 51, 55, 41, 44, 57,\n",
              "       46, 58, 55, 60, 46, 55, 41, 49, 40, 42, 52, 47, 50, 42, 49, 41, 48,\n",
              "       59, 55, 56, 42, 50, 46, 43, 48, 52, 54, 42, 46, 48, 50, 43, 59, 43,\n",
              "       57, 56, 40, 58, 91, 29, 77, 35, 95, 11, 75,  9, 75, 34, 71,  5, 88,\n",
              "        7, 73, 10, 72,  5, 93, 40, 87, 12, 97, 36, 74, 22, 90, 17, 88, 20,\n",
              "       76, 16, 89,  1, 78,  1, 73, 35, 83,  5, 93, 26, 75, 20, 95, 27, 63,\n",
              "       13, 75, 10, 92, 13, 86, 15, 69, 14, 90, 32, 86, 15, 88, 39, 97, 24,\n",
              "       68, 17, 85, 23, 69,  8, 91, 16, 79, 28, 74, 18, 83])"
            ]
          },
          "metadata": {},
          "execution_count": 58
        }
      ]
    },
    {
      "cell_type": "code",
      "source": [
        "print(X.shape,y.shape)"
      ],
      "metadata": {
        "colab": {
          "base_uri": "https://localhost:8080/"
        },
        "id": "HB2iYHlzQp87",
        "outputId": "86f2b934-b91d-4df7-e833-46a116ec1ec8"
      },
      "execution_count": 59,
      "outputs": [
        {
          "output_type": "stream",
          "name": "stdout",
          "text": [
            "(200, 4) (200,)\n"
          ]
        }
      ]
    },
    {
      "cell_type": "code",
      "source": [
        "plt.scatter(data['Annual Income (k$)'],data['Spending Score (1-100)'],color='red')"
      ],
      "metadata": {
        "colab": {
          "base_uri": "https://localhost:8080/",
          "height": 288
        },
        "id": "-cnuQvo4QwqT",
        "outputId": "2dec9359-3d69-4097-a212-bc839cbbf9db"
      },
      "execution_count": 60,
      "outputs": [
        {
          "output_type": "execute_result",
          "data": {
            "text/plain": [
              "<matplotlib.collections.PathCollection at 0x7fa6704726d0>"
            ]
          },
          "metadata": {},
          "execution_count": 60
        },
        {
          "output_type": "display_data",
          "data": {
            "text/plain": [
              "<Figure size 432x288 with 1 Axes>"
            ],
            "image/png": "[encoded data removed]"
          },
          "metadata": {}
        }
      ]
    },
    {
      "cell_type": "code",
      "source": [
        "#Split the data into training and testing\n",
        "from sklearn.model_selection import train_test_split\n",
        "\n",
        "X_train,X_test,y_train,y_test=train_test_split(X,y,test_size=0.2)"
      ],
      "metadata": {
        "id": "yxL3QSeDQ0lz"
      },
      "execution_count": 61,
      "outputs": []
    },
    {
      "cell_type": "code",
      "source": [
        "print(X_train.shape,X_test.shape)"
      ],
      "metadata": {
        "colab": {
          "base_uri": "https://localhost:8080/"
        },
        "id": "UYsxteb7Q6Yq",
        "outputId": "236279ea-401e-4136-90cd-1ea059ea49eb"
      },
      "execution_count": 62,
      "outputs": [
        {
          "output_type": "stream",
          "name": "stdout",
          "text": [
            "(160, 4) (40, 4)\n"
          ]
        }
      ]
    },
    {
      "cell_type": "code",
      "source": [
        "# Build the Model \n",
        "my_dict=pd.read_csv(\"/content/Mall_Customers.csv\")\n",
        "df = pd.DataFrame(my_dict)\n",
        "print(df)"
      ],
      "metadata": {
        "colab": {
          "base_uri": "https://localhost:8080/"
        },
        "id": "Z-zlrEVcQ8tx",
        "outputId": "5ac29325-4d95-4b5b-ee33-2f838e791bd9"
      },
      "execution_count": 63,
      "outputs": [
        {
          "output_type": "stream",
          "name": "stdout",
          "text": [
            "     CustomerID  Gender  Age  Annual Income (k$)  Spending Score (1-100)\n",
            "0             1    Male   19                  15                      39\n",
            "1             2    Male   21                  15                      81\n",
            "2             3  Female   20                  16                       6\n",
            "3             4  Female   23                  16                      77\n",
            "4             5  Female   31                  17                      40\n",
            "..          ...     ...  ...                 ...                     ...\n",
            "195         196  Female   35                 120                      79\n",
            "196         197  Female   45                 126                      28\n",
            "197         198    Male   32                 126                      74\n",
            "198         199    Male   32                 137                      18\n",
            "199         200    Male   30                 137                      83\n",
            "\n",
            "[200 rows x 5 columns]\n"
          ]
        }
      ]
    },
    {
      "cell_type": "code",
      "source": [
        "#  Build the Model \n",
        "import csv\n",
        "with open(\"/content/Mall_Customers.csv\") as csv_file:\n",
        "    csv_reader = csv.reader(csv_file)\n",
        "    df = pd.DataFrame([csv_reader], index = None)\n",
        "for val in list(df[1]):\n",
        "    print(val)"
      ],
      "metadata": {
        "colab": {
          "base_uri": "https://localhost:8080/"
        },
        "id": "wCMNEIA0Q_8b",
        "outputId": "4d51f0ef-baae-4ce4-a8d4-11e3dad3f956"
      },
      "execution_count": 64,
      "outputs": [
        {
          "output_type": "stream",
          "name": "stdout",
          "text": [
            "['1', 'Male', '19', '15', '39']\n"
          ]
        }
      ]
    },
    {
      "cell_type": "code",
      "source": [
        "#Train the Model\n",
        "model.fit(X_train,y_train)"
      ],
      "metadata": {
        "colab": {
          "base_uri": "https://localhost:8080/"
        },
        "id": "6kU6JsbnRCrZ",
        "outputId": "8b476297-55ec-4138-94f5-d670b748f1ee"
      },
      "execution_count": 65,
      "outputs": [
        {
          "output_type": "execute_result",
          "data": {
            "text/plain": [
              "KMeans(n_clusters=4)"
            ]
          },
          "metadata": {},
          "execution_count": 65
        }
      ]
    },
    {
      "cell_type": "code",
      "source": [
        "#Train the Model\n",
        "model.fit(X_train,y_train)"
      ],
      "metadata": {
        "colab": {
          "base_uri": "https://localhost:8080/"
        },
        "id": "wohAoqS_RH7L",
        "outputId": "e0162b5b-fcf6-439a-d554-141a7f0a4347"
      },
      "execution_count": 66,
      "outputs": [
        {
          "output_type": "execute_result",
          "data": {
            "text/plain": [
              "KMeans(n_clusters=4)"
            ]
          },
          "metadata": {},
          "execution_count": 66
        }
      ]
    },
    {
      "cell_type": "code",
      "source": [
        "#Test the Model\n",
        "pred2=model.predict(X_test)"
      ],
      "metadata": {
        "id": "bdf2f2JyRK07"
      },
      "execution_count": 67,
      "outputs": []
    },
    {
      "cell_type": "code",
      "source": [
        "#Measure the performance using Evaluation Metrics\n",
        "from sklearn.metrics import accuracy_score\n",
        "accuracy_score(y_test,pred2)"
      ],
      "metadata": {
        "colab": {
          "base_uri": "https://localhost:8080/"
        },
        "id": "o4BQXHLeROps",
        "outputId": "41502a21-985e-4156-a492-7b8160cbecfc"
      },
      "execution_count": 68,
      "outputs": [
        {
          "output_type": "execute_result",
          "data": {
            "text/plain": [
              "0.0"
            ]
          },
          "metadata": {},
          "execution_count": 68
        }
      ]
    },
    {
      "cell_type": "code",
      "source": [
        "from sklearn import metrics\n",
        "metrics.confusion_matrix(y_test,pred2)"
      ],
      "metadata": {
        "colab": {
          "base_uri": "https://localhost:8080/"
        },
        "id": "Up7Bmpi4RSXi",
        "outputId": "0b5a013d-0f3c-4991-9b22-dee4d5b0a586"
      },
      "execution_count": 69,
      "outputs": [
        {
          "output_type": "execute_result",
          "data": {
            "text/plain": [
              "array([[0, 0, 0, ..., 0, 0, 0],\n",
              "       [1, 0, 0, ..., 0, 0, 0],\n",
              "       [0, 0, 0, ..., 0, 0, 0],\n",
              "       ...,\n",
              "       [0, 1, 0, ..., 0, 0, 0],\n",
              "       [1, 0, 1, ..., 0, 0, 0],\n",
              "       [1, 0, 1, ..., 0, 0, 0]])"
            ]
          },
          "metadata": {},
          "execution_count": 69
        }
      ]
    },
    {
      "cell_type": "code",
      "source": [
        "data.head(2)"
      ],
      "metadata": {
        "colab": {
          "base_uri": "https://localhost:8080/",
          "height": 112
        },
        "id": "726PKrACRWDb",
        "outputId": "a2d6e503-7190-4a0c-b633-61a8d2bb6316"
      },
      "execution_count": 70,
      "outputs": [
        {
          "output_type": "execute_result",
          "data": {
            "text/plain": [
              "   CustomerID  Gender  Age  Annual Income (k$)  Spending Score (1-100)\n",
              "0           1       1    7                  15                      39\n",
              "1           2       1    7                  15                      81"
            ],
            "text/html": [
              "\n",
              "  <div id=\"df-fab449f4-c7da-4f5b-ae74-80774ba85c41\">\n",
              "    <div class=\"colab-df-container\">\n",
              "      <div>\n",
              "<style scoped>\n",
              "    .dataframe tbody tr th:only-of-type {\n",
              "        vertical-align: middle;\n",
              "    }\n",
              "\n",
              "    .dataframe tbody tr th {\n",
              "        vertical-align: top;\n",
              "    }\n",
              "\n",
              "    .dataframe thead th {\n",
              "        text-align: right;\n",
              "    }\n",
              "</style>\n",
              "<table border=\"1\" class=\"dataframe\">\n",
              "  <thead>\n",
              "    <tr style=\"text-align: right;\">\n",
              "      <th></th>\n",
              "      <th>CustomerID</th>\n",
              "      <th>Gender</th>\n",
              "      <th>Age</th>\n",
              "      <th>Annual Income (k$)</th>\n",
              "      <th>Spending Score (1-100)</th>\n",
              "    </tr>\n",
              "  </thead>\n",
              "  <tbody>\n",
              "    <tr>\n",
              "      <th>0</th>\n",
              "      <td>1</td>\n",
              "      <td>1</td>\n",
              "      <td>7</td>\n",
              "      <td>15</td>\n",
              "      <td>39</td>\n",
              "    </tr>\n",
              "    <tr>\n",
              "      <th>1</th>\n",
              "      <td>2</td>\n",
              "      <td>1</td>\n",
              "      <td>7</td>\n",
              "      <td>15</td>\n",
              "      <td>81</td>\n",
              "    </tr>\n",
              "  </tbody>\n",
              "</table>\n",
              "</div>\n",
              "      <button class=\"colab-df-convert\" onclick=\"convertToInteractive('df-fab449f4-c7da-4f5b-ae74-80774ba85c41')\"\n",
              "              title=\"Convert this dataframe to an interactive table.\"\n",
              "              style=\"display:none;\">\n",
              "        \n",
              "  <svg xmlns=\"http://www.w3.org/2000/svg\" height=\"24px\"viewBox=\"0 0 24 24\"\n",
              "       width=\"24px\">\n",
              "    <path d=\"M0 0h24v24H0V0z\" fill=\"none\"/>\n",
              "    <path d=\"M18.56 5.44l.94 2.06.94-2.06 2.06-.94-2.06-.94-.94-2.06-.94 2.06-2.06.94zm-11 1L8.5 8.5l.94-2.06 2.06-.94-2.06-.94L8.5 2.5l-.94 2.06-2.06.94zm10 10l.94 2.06.94-2.06 2.06-.94-2.06-.94-.94-2.06-.94 2.06-2.06.94z\"/><path d=\"M17.41 7.96l-1.37-1.37c-.4-.4-.92-.59-1.43-.59-.52 0-1.04.2-1.43.59L10.3 9.45l-7.72 7.72c-.78.78-.78 2.05 0 2.83L4 21.41c.39.39.9.59 1.41.59.51 0 1.02-.2 1.41-.59l7.78-7.78 2.81-2.81c.8-.78.8-2.07 0-2.86zM5.41 20L4 18.59l7.72-7.72 1.47 1.35L5.41 20z\"/>\n",
              "  </svg>\n",
              "      </button>\n",
              "      \n",
              "  <style>\n",
              "    .colab-df-container {\n",
              "      display:flex;\n",
              "      flex-wrap:wrap;\n",
              "      gap: 12px;\n",
              "    }\n",
              "\n",
              "    .colab-df-convert {\n",
              "      background-color: #E8F0FE;\n",
              "      border: none;\n",
              "      border-radius: 50%;\n",
              "      cursor: pointer;\n",
              "      display: none;\n",
              "      fill: #1967D2;\n",
              "      height: 32px;\n",
              "      padding: 0 0 0 0;\n",
              "      width: 32px;\n",
              "    }\n",
              "\n",
              "    .colab-df-convert:hover {\n",
              "      background-color: #E2EBFA;\n",
              "      box-shadow: 0px 1px 2px rgba(60, 64, 67, 0.3), 0px 1px 3px 1px rgba(60, 64, 67, 0.15);\n",
              "      fill: #174EA6;\n",
              "    }\n",
              "\n",
              "    [theme=dark] .colab-df-convert {\n",
              "      background-color: #3B4455;\n",
              "      fill: #D2E3FC;\n",
              "    }\n",
              "\n",
              "    [theme=dark] .colab-df-convert:hover {\n",
              "      background-color: #434B5C;\n",
              "      box-shadow: 0px 1px 3px 1px rgba(0, 0, 0, 0.15);\n",
              "      filter: drop-shadow(0px 1px 2px rgba(0, 0, 0, 0.3));\n",
              "      fill: #FFFFFF;\n",
              "    }\n",
              "  </style>\n",
              "\n",
              "      <script>\n",
              "        const buttonEl =\n",
              "          document.querySelector('#df-fab449f4-c7da-4f5b-ae74-80774ba85c41 button.colab-df-convert');\n",
              "        buttonEl.style.display =\n",
              "          google.colab.kernel.accessAllowed ? 'block' : 'none';\n",
              "\n",
              "        async function convertToInteractive(key) {\n",
              "          const element = document.querySelector('#df-fab449f4-c7da-4f5b-ae74-80774ba85c41');\n",
              "          const dataTable =\n",
              "            await google.colab.kernel.invokeFunction('convertToInteractive',\n",
              "                                                     [key], {});\n",
              "          if (!dataTable) return;\n",
              "\n",
              "          const docLinkHtml = 'Like what you see? Visit the ' +\n",
              "            '<a target=\"_blank\" href=https://colab.research.google.com/notebooks/data_table.ipynb>data table notebook</a>'\n",
              "            + ' to learn more about interactive tables.';\n",
              "          element.innerHTML = '';\n",
              "          dataTable['output_type'] = 'display_data';\n",
              "          await google.colab.output.renderOutput(dataTable, element);\n",
              "          const docLink = document.createElement('div');\n",
              "          docLink.innerHTML = docLinkHtml;\n",
              "          element.appendChild(docLink);\n",
              "        }\n",
              "      </script>\n",
              "    </div>\n",
              "  </div>\n",
              "  "
            ]
          },
          "metadata": {},
          "execution_count": 70
        }
      ]
    },
    {
      "cell_type": "code",
      "source": [
        "model.predict([[0,8,20,52,]])"
      ],
      "metadata": {
        "colab": {
          "base_uri": "https://localhost:8080/"
        },
        "id": "OXrMF_0mRYNy",
        "outputId": "ad438943-9b75-4eb9-8dc8-937c697cb25a"
      },
      "execution_count": 71,
      "outputs": [
        {
          "output_type": "execute_result",
          "data": {
            "text/plain": [
              "array([1], dtype=int32)"
            ]
          },
          "metadata": {},
          "execution_count": 71
        }
      ]
    },
    {
      "cell_type": "code",
      "source": [
        "from sklearn.ensemble import RandomForestClassifier"
      ],
      "metadata": {
        "id": "GYUFioz9RbdT"
      },
      "execution_count": 72,
      "outputs": []
    },
    {
      "cell_type": "code",
      "source": [
        "rf=RandomForestClassifier()"
      ],
      "metadata": {
        "id": "59SCOCW0TCHS"
      },
      "execution_count": 77,
      "outputs": []
    },
    {
      "cell_type": "code",
      "source": [
        "#train the model\n",
        "rf.fit(X_train,y_train)"
      ],
      "metadata": {
        "colab": {
          "base_uri": "https://localhost:8080/"
        },
        "id": "Zb_WxyBXTGYq",
        "outputId": "16fe3c52-5a5f-41da-871b-7d6cd91d07fd"
      },
      "execution_count": 78,
      "outputs": [
        {
          "output_type": "execute_result",
          "data": {
            "text/plain": [
              "RandomForestClassifier()"
            ]
          },
          "metadata": {},
          "execution_count": 78
        }
      ]
    },
    {
      "cell_type": "code",
      "source": [
        "#prediction on the test\n",
        "pred=rf.predict(X_test)"
      ],
      "metadata": {
        "id": "vmbQzX_kTInC"
      },
      "execution_count": 79,
      "outputs": []
    },
    {
      "cell_type": "code",
      "source": [
        "# Accuracy of DT model \n",
        "from sklearn.metrics import accuracy_score\n",
        "accuracy_score(y_test,pred)"
      ],
      "metadata": {
        "colab": {
          "base_uri": "https://localhost:8080/"
        },
        "id": "n-pDUgMrTLL6",
        "outputId": "92b86518-450f-424a-be32-209a76502aa2"
      },
      "execution_count": 80,
      "outputs": [
        {
          "output_type": "execute_result",
          "data": {
            "text/plain": [
              "0.05"
            ]
          },
          "metadata": {},
          "execution_count": 80
        }
      ]
    },
    {
      "cell_type": "code",
      "source": [
        "# e matrix\n",
        "from sklearn import metrics\n",
        "metrics.confusion_matrix(y_test,pred)"
      ],
      "metadata": {
        "colab": {
          "base_uri": "https://localhost:8080/"
        },
        "id": "R-LTgUoBTNb6",
        "outputId": "b1c83038-59d2-4c4a-801c-199c4793204f"
      },
      "execution_count": 81,
      "outputs": [
        {
          "output_type": "execute_result",
          "data": {
            "text/plain": [
              "array([[0, 0, 0, ..., 0, 0, 0],\n",
              "       [0, 1, 0, ..., 0, 0, 0],\n",
              "       [0, 0, 0, ..., 0, 0, 0],\n",
              "       ...,\n",
              "       [0, 0, 0, ..., 0, 0, 0],\n",
              "       [0, 0, 0, ..., 0, 0, 0],\n",
              "       [0, 0, 0, ..., 0, 0, 0]])"
            ]
          },
          "metadata": {},
          "execution_count": 81
        }
      ]
    },
    {
      "cell_type": "code",
      "source": [
        "#NAIVE BAYES Model\n",
        "from sklearn.naive_bayes import GaussianNB"
      ],
      "metadata": {
        "id": "_y3Mtvm1TPl0"
      },
      "execution_count": 82,
      "outputs": []
    },
    {
      "cell_type": "code",
      "source": [
        "nb=GaussianNB()"
      ],
      "metadata": {
        "id": "o1BVcdr-TR6Z"
      },
      "execution_count": 83,
      "outputs": []
    },
    {
      "cell_type": "code",
      "source": [
        "#training model\n",
        "nb.fit(X_train,y_train)"
      ],
      "metadata": {
        "colab": {
          "base_uri": "https://localhost:8080/"
        },
        "id": "70SK9OqoTTrx",
        "outputId": "81b62771-3a2b-4815-913c-ea2384d243e7"
      },
      "execution_count": 84,
      "outputs": [
        {
          "output_type": "execute_result",
          "data": {
            "text/plain": [
              "GaussianNB()"
            ]
          },
          "metadata": {},
          "execution_count": 84
        }
      ]
    },
    {
      "cell_type": "code",
      "source": [
        "#Test the model\n",
        "pred=nb.predict(X_test)\n",
        "pred"
      ],
      "metadata": {
        "colab": {
          "base_uri": "https://localhost:8080/"
        },
        "id": "uFNJdOMVTVxh",
        "outputId": "0fe0ff64-ebed-465e-f2a0-be78ef0e774a"
      },
      "execution_count": 85,
      "outputs": [
        {
          "output_type": "execute_result",
          "data": {
            "text/plain": [
              "array([50, 56, 56, 77, 77, 54, 87, 50, 54, 97, 43, 87, 50, 87, 28, 73, 54,\n",
              "       97, 28, 87, 54, 28, 76, 10, 87, 97, 77, 76, 50, 87, 73, 56, 50, 28,\n",
              "       92, 97, 76, 56, 97, 36])"
            ]
          },
          "metadata": {},
          "execution_count": 85
        }
      ]
    },
    {
      "cell_type": "code",
      "source": [
        "#evalute model matrix\n",
        "from sklearn.metrics import accuracy_score, confusion_matrix\n",
        "accuracy_score(y_test,pred)"
      ],
      "metadata": {
        "colab": {
          "base_uri": "https://localhost:8080/"
        },
        "id": "yuBGheSUTaaK",
        "outputId": "74bb292f-4a0a-4ac1-cb78-2a5d31d01bdd"
      },
      "execution_count": 86,
      "outputs": [
        {
          "output_type": "execute_result",
          "data": {
            "text/plain": [
              "0.025"
            ]
          },
          "metadata": {},
          "execution_count": 86
        }
      ]
    },
    {
      "cell_type": "code",
      "source": [
        "confusion_matrix(y_test,pred)"
      ],
      "metadata": {
        "colab": {
          "base_uri": "https://localhost:8080/"
        },
        "id": "xK6fTQsHTcwr",
        "outputId": "73637a8f-e50e-434f-d411-5450e9b7f0b2"
      },
      "execution_count": 87,
      "outputs": [
        {
          "output_type": "execute_result",
          "data": {
            "text/plain": [
              "array([[0, 0, 0, ..., 0, 0, 1],\n",
              "       [0, 0, 0, ..., 0, 0, 0],\n",
              "       [0, 0, 0, ..., 0, 0, 1],\n",
              "       ...,\n",
              "       [0, 0, 0, ..., 0, 0, 1],\n",
              "       [0, 0, 0, ..., 0, 0, 0],\n",
              "       [0, 0, 0, ..., 0, 0, 0]])"
            ]
          },
          "metadata": {},
          "execution_count": 87
        }
      ]
    }
  ]
}